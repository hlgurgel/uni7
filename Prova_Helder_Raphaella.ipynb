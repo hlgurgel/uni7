{
 "cells": [
  {
   "cell_type": "markdown",
   "metadata": {},
   "source": [
    "![title](https://doity.com.br/media/doity/eventos/evento-20025-logo_organizador.png)\n",
    "\n",
    "# Prova de Descoberta do Conhecimento\n",
    "\n",
    "* **Prof. Cleilton Lima Rocha**\n",
    "* **emails:** cleilton_rocha@atlantico.com.br; climarocha@gmail.com\n",
    "* **deadline: 17/10 às 12h **"
   ]
  },
  {
   "cell_type": "markdown",
   "metadata": {},
   "source": [
    "Para este projeto exploraremos os dados Call_Data disponível na pasta. Para maiores informações acesse este [link](https://data.seattle.gov/Public-Safety/Call-Data/33kz-ixgy). A variável alvo da nossa prova será 'Event Clearance Description'\n",
    "\n",
    "O objetivo do nosso projeto é apoiar os policiais quanto as medidas prescritivas que eles devem tomar ao tentarem resolver uma chamada. Para isto eles têm disponível o histórico de tudo o que já foi resolvido, por ele e por seus colegas, e sua solução de Data Science =D.\n",
    "\n",
    "**PS.:**\n",
    "* Quando houver necessidade de splitar os dados aplique a proporção 70 para treino e 30 para teste\n",
    "* Quando houver necessidade de utilizar o random_state defina o valor 100\n",
    "* Envie o código fonte e o report (File ==> Download As ==> Html ou PDF), com o nome dos membros da dupla, para um dos meus emails, climarocha@gmail.com ou cleilton_rocha@atlantico.com.br até o dia **17/10 às 12h**, após esta data, 17/12 as 12h, será subtraído uma penalidade da sua nota, **penalty=(1,5/performance_modelo)**. A data limite para entrega é **18/10 às 8h**."
   ]
  },
  {
   "cell_type": "markdown",
   "metadata": {},
   "source": [
    "# Questões obrigatórias\n",
    "\n",
    " * **1. Importe o data set train_call_data e considere a variável alvo 'Event Clearance Description'**\n",
    "     * **1.1. Como está o balanceamento das classes?**\n",
    "     * **P.S.: Não é obrigatório aplicar o undersampling and oversampling sobre o dataset**. \n",
    "     * **P.S.: Você pode usar qualquer um dos datasets de treinamento a v1 ou a v2**. \n",
    " * **2. Realize o EDA que você julgar necessário (análise exploratória dos dados), o objetivo do EDA é mostrar alguns insights sobre os dados **\n",
    "     * *Utilize recursos visuais, por exemplo gráficos* \n",
    " * **3. Realize o tratamento que você julgar mais adequado aos dados.**\n",
    "     * *P.S.: Explique, com suas palavras, porque o processo de feature engineering é necessário*\n",
    "     * *P.S.: A criação de um pipeline lhe dará pontos extras e melhorará o reaproveitamento de código *\n",
    " * **4. Selecione duas soluções candidatas e justifique suas escolhas. Mostre os pontos negativos e positivos de cada modelo.**\n",
    " * **5. Construa os modelos de aprendizagem de máquina para cada modelo **    \n",
    " * **6. Para cada modelo aplique uma combinação aos hiperparâmetros com o GridSearch e aplique também o CrossValidation**\n",
    "     * *P.S.: Explique, com suas palavras, a necessidade de utilizar GridSearch e CrossValidation*\n",
    "     * *P.S.: Explique a importância para de no mínimo um hiperparâmetro para um modelo *\n",
    " * **7. Defina uma métrica de avaliação e avalie as soluções candidatas. Justifique a escolha da sua métrica.**\n",
    " * **8. Escolha um dos modelos, por exemplo o melhor modelo, e faça uma análise do overfitting e underfitting. Justique sua resposta com base em experimentos.**\n",
    "     * *Analise no mínimo 2 hiperparâmetros e também o número de amostras utilizado no treinamento* \n",
    "     * *Utilize recursos visuais, por exemplo gráficos, se você achar neccessário* \n",
    " * **9. Realize a predição sobre os dado test_call_data, como o seu modelo saiu? **\n",
    " * **10. Se seu modelo permitir analisar a importância das features, analise-o e tente justificar de forma subjetiva a importância da feature. Por exemplo, a feature_chamadas_a_noite possui um alto coeficiente, pois há uma tendência dos crimes acontecerem a noite, não tão simples assim :P. **\n"
   ]
  },
  {
   "cell_type": "markdown",
   "metadata": {},
   "source": [
    "# Questões opcionais\n",
    " * **11. Crie ao menos 5 chamadas fake e utilize o seu modelo adicionando, no mínimo, 2 variações para a variável \"Final Call Type\" para cada amostra, logo sua amostra terá #chamadas * #variações_final_call_type. ** \n",
    " Uma das variáveis que provavelmente pode ter uma forte correlação com a variável dependente é a variável \"Final Call Type\". Por isso, você deve fornecer opções para aquela variável, a fim de auxiliar o policial na sua resolução final. Quando ele simular  novos atendimentos, a classificação da chamada inicial pode mudar, ao decorrer do seu atendimento, e de acordo com esta mudança ele saberá melhor o que fazer. Pense neste approach como uma solução real. \n",
    " * **12. Aplique clusterização, preferencialmente o KMeans sobre o dado, e comunique suas novas descobertas, sinta-se a vontade para apresentar uma solução simples ou mais robusta =D. Esta questão vale pontos extras **\n"
   ]
  },
  {
   "cell_type": "markdown",
   "metadata": {},
   "source": [
    "# Bom trabalho!"
   ]
  },
  {
   "cell_type": "markdown",
   "metadata": {},
   "source": [
    "### Alunos: Helder Gurgel e Raphaella Medeiros"
   ]
  },
  {
   "cell_type": "code",
   "execution_count": 1,
   "metadata": {},
   "outputs": [],
   "source": [
    "import numpy as np\n",
    "import matplotlib.pyplot as plt\n",
    "import pandas as pd\n",
    "%matplotlib inline"
   ]
  },
  {
   "cell_type": "markdown",
   "metadata": {},
   "source": [
    "### Importando os dados"
   ]
  },
  {
   "cell_type": "code",
   "execution_count": 2,
   "metadata": {},
   "outputs": [],
   "source": [
    "train_call_data = pd.read_csv('train_call_data_v1.csv')"
   ]
  },
  {
   "cell_type": "code",
   "execution_count": 3,
   "metadata": {},
   "outputs": [
    {
     "data": {
      "text/plain": [
       "Index(['Unnamed: 0', 'CAD Event Number', 'Event Clearance Description',\n",
       "       'Call Type', 'Priority', 'Initial Call Type', 'Final Call Type',\n",
       "       'Original Time Queued', 'Arrived Time', 'Precinct', 'Sector', 'Beat'],\n",
       "      dtype='object')"
      ]
     },
     "execution_count": 3,
     "metadata": {},
     "output_type": "execute_result"
    }
   ],
   "source": [
    "train_call_data.columns"
   ]
  },
  {
   "cell_type": "markdown",
   "metadata": {},
   "source": [
    "### Verificando balanceamento das classes"
   ]
  },
  {
   "cell_type": "code",
   "execution_count": 4,
   "metadata": {},
   "outputs": [
    {
     "data": {
      "text/plain": [
       "REPORT WRITTEN (NO ARREST)                    38008\n",
       "ORAL WARNING GIVEN                            16837\n",
       "CITATION ISSUED (CRIMINAL OR NON-CRIMINAL)    12673\n",
       "UNABLE TO LOCATE INCIDENT OR COMPLAINANT      10150\n",
       "PHYSICAL ARREST MADE                           8404\n",
       "FALSE COMPLAINT/UNFOUNDED                      4527\n",
       "PROBLEM SOLVING PROJECT                        3303\n",
       "Name: Event Clearance Description, dtype: int64"
      ]
     },
     "execution_count": 4,
     "metadata": {},
     "output_type": "execute_result"
    }
   ],
   "source": [
    "classes = train_call_data['Event Clearance Description'].value_counts()\n",
    "classes"
   ]
  },
  {
   "cell_type": "markdown",
   "metadata": {},
   "source": [
    "Atenção para as classes que estão completamente **desbalanceadas**."
   ]
  },
  {
   "cell_type": "code",
   "execution_count": 5,
   "metadata": {},
   "outputs": [
    {
     "data": {
      "image/png": "[encoded data removed]",
      "text/plain": [
       "<Figure size 432x288 with 1 Axes>"
      ]
     },
     "metadata": {
      "needs_background": "light"
     },
     "output_type": "display_data"
    }
   ],
   "source": [
    "plt.barh(classes.keys(), classes.values)\n",
    "plt.title('Balanceamento das classes')\n",
    "plt.show()"
   ]
  },
  {
   "cell_type": "markdown",
   "metadata": {},
   "source": [
    "### Realizando o EDA"
   ]
  },
  {
   "cell_type": "markdown",
   "metadata": {},
   "source": [
    "#### Removendo colunas não relacionadas"
   ]
  },
  {
   "cell_type": "code",
   "execution_count": 6,
   "metadata": {},
   "outputs": [
    {
     "data": {
      "text/plain": [
       "Index(['Unnamed: 0', 'CAD Event Number', 'Event Clearance Description',\n",
       "       'Call Type', 'Priority', 'Initial Call Type', 'Final Call Type',\n",
       "       'Original Time Queued', 'Arrived Time', 'Precinct', 'Sector', 'Beat'],\n",
       "      dtype='object')"
      ]
     },
     "execution_count": 6,
     "metadata": {},
     "output_type": "execute_result"
    }
   ],
   "source": [
    "train_call_data.columns"
   ]
  },
  {
   "cell_type": "markdown",
   "metadata": {},
   "source": [
    "As duas primeiras colunas guardam, respectivamente, um problema na importação (não mencionada na documentação) e o código único do evento. Ambas relacionadas demais a um evento em específico para servirem de _feature_ da generalização."
   ]
  },
  {
   "cell_type": "code",
   "execution_count": 7,
   "metadata": {},
   "outputs": [],
   "source": [
    "train_call_data.drop(train_call_data.columns[:2], axis=1, inplace=True)"
   ]
  },
  {
   "cell_type": "markdown",
   "metadata": {},
   "source": [
    "#### Alterando colunas de texto para informações numéricas e identificando correlações"
   ]
  },
  {
   "cell_type": "code",
   "execution_count": 8,
   "metadata": {},
   "outputs": [],
   "source": [
    "def get_dict(serie):\n",
    "    return {name: index for index, name in enumerate(serie.unique())}"
   ]
  },
  {
   "cell_type": "code",
   "execution_count": 9,
   "metadata": {},
   "outputs": [],
   "source": [
    "def encode_column(serie):\n",
    "    get_dict_result = get_dict(serie)\n",
    "    serie = serie.replace(get_dict_result)\n",
    "    return get_dict_result, serie"
   ]
  },
  {
   "cell_type": "code",
   "execution_count": 10,
   "metadata": {},
   "outputs": [],
   "source": [
    "target_encode, target_serie = encode_column(train_call_data['Event Clearance Description'])"
   ]
  },
  {
   "cell_type": "code",
   "execution_count": 11,
   "metadata": {},
   "outputs": [],
   "source": [
    "call_type_encode, call_type_serie = encode_column(train_call_data['Call Type'])"
   ]
  },
  {
   "cell_type": "code",
   "execution_count": 12,
   "metadata": {},
   "outputs": [
    {
     "data": {
      "text/plain": [
       "({'TELEPHONE OTHER, NOT 911': 0,\n",
       "  'ONVIEW': 1,\n",
       "  '911': 2,\n",
       "  'ALARM CALL (NOT POLICE ALARM)': 3,\n",
       "  'POLICE (VARDA) ALARM': 4,\n",
       "  'IN PERSON COMPLAINT': 5,\n",
       "  'HISTORY CALL (RETRO)': 6},\n",
       " array([[0, 1, 0, ..., 0, 0, 2]]))"
      ]
     },
     "execution_count": 12,
     "metadata": {},
     "output_type": "execute_result"
    }
   ],
   "source": [
    "call_type_encode, np.array(call_type_serie).reshape(1,-1)"
   ]
  },
  {
   "cell_type": "markdown",
   "metadata": {},
   "source": [
    "O motivo do por que fazer esta transformação é poder utilizar uma das funcionalidades do _pandas_ que é analisar a correlação entre as _features_. Como nos exemplos abaixo:"
   ]
  },
  {
   "cell_type": "code",
   "execution_count": 13,
   "metadata": {},
   "outputs": [
    {
     "data": {
      "text/html": [
       "<div>\n",
       "<style scoped>\n",
       "    .dataframe tbody tr th:only-of-type {\n",
       "        vertical-align: middle;\n",
       "    }\n",
       "\n",
       "    .dataframe tbody tr th {\n",
       "        vertical-align: top;\n",
       "    }\n",
       "\n",
       "    .dataframe thead th {\n",
       "        text-align: right;\n",
       "    }\n",
       "</style>\n",
       "<table border=\"1\" class=\"dataframe\">\n",
       "  <thead>\n",
       "    <tr style=\"text-align: right;\">\n",
       "      <th></th>\n",
       "      <th>call_type</th>\n",
       "      <th>target</th>\n",
       "    </tr>\n",
       "  </thead>\n",
       "  <tbody>\n",
       "    <tr>\n",
       "      <th>call_type</th>\n",
       "      <td>1.000000</td>\n",
       "      <td>0.174016</td>\n",
       "    </tr>\n",
       "    <tr>\n",
       "      <th>target</th>\n",
       "      <td>0.174016</td>\n",
       "      <td>1.000000</td>\n",
       "    </tr>\n",
       "  </tbody>\n",
       "</table>\n",
       "</div>"
      ],
      "text/plain": [
       "           call_type    target\n",
       "call_type   1.000000  0.174016\n",
       "target      0.174016  1.000000"
      ]
     },
     "execution_count": 13,
     "metadata": {},
     "output_type": "execute_result"
    }
   ],
   "source": [
    "pd.DataFrame({'call_type': call_type_serie.values,\\\n",
    "              'target': target_serie.values}).corr()"
   ]
  },
  {
   "cell_type": "markdown",
   "metadata": {},
   "source": [
    "E assim podemos verificar que existe uma relação de 17% entre o tipo da chamada e o resultado da mesma. Relação forte? Teremos mais conhecimento quando analisarmos a correlação de todas as variáveis."
   ]
  },
  {
   "cell_type": "code",
   "execution_count": 14,
   "metadata": {},
   "outputs": [
    {
     "data": {
      "text/html": [
       "<div>\n",
       "<style scoped>\n",
       "    .dataframe tbody tr th:only-of-type {\n",
       "        vertical-align: middle;\n",
       "    }\n",
       "\n",
       "    .dataframe tbody tr th {\n",
       "        vertical-align: top;\n",
       "    }\n",
       "\n",
       "    .dataframe thead th {\n",
       "        text-align: right;\n",
       "    }\n",
       "</style>\n",
       "<table border=\"1\" class=\"dataframe\">\n",
       "  <thead>\n",
       "    <tr style=\"text-align: right;\">\n",
       "      <th></th>\n",
       "      <th>Event Clearance Description</th>\n",
       "      <th>Call Type</th>\n",
       "      <th>Priority</th>\n",
       "      <th>Initial Call Type</th>\n",
       "      <th>Final Call Type</th>\n",
       "      <th>Original Time Queued</th>\n",
       "      <th>Arrived Time</th>\n",
       "      <th>Precinct</th>\n",
       "      <th>Sector</th>\n",
       "      <th>Beat</th>\n",
       "    </tr>\n",
       "  </thead>\n",
       "  <tbody>\n",
       "    <tr>\n",
       "      <th>0</th>\n",
       "      <td>CITATION ISSUED (CRIMINAL OR NON-CRIMINAL)</td>\n",
       "      <td>TELEPHONE OTHER, NOT 911</td>\n",
       "      <td>3</td>\n",
       "      <td>TRAFFIC - BLOCKING ROADWAY</td>\n",
       "      <td>TRAFFIC - BLOCKING ROADWAY</td>\n",
       "      <td>06/02/2009 03:43:08 AM</td>\n",
       "      <td>Jun  2 2009 05:47:21:000AM</td>\n",
       "      <td>WEST</td>\n",
       "      <td>QUEEN</td>\n",
       "      <td>Q1</td>\n",
       "    </tr>\n",
       "  </tbody>\n",
       "</table>\n",
       "</div>"
      ],
      "text/plain": [
       "                  Event Clearance Description                 Call Type  \\\n",
       "0  CITATION ISSUED (CRIMINAL OR NON-CRIMINAL)  TELEPHONE OTHER, NOT 911   \n",
       "\n",
       "   Priority           Initial Call Type             Final Call Type  \\\n",
       "0         3  TRAFFIC - BLOCKING ROADWAY  TRAFFIC - BLOCKING ROADWAY   \n",
       "\n",
       "     Original Time Queued                Arrived Time Precinct Sector Beat  \n",
       "0  06/02/2009 03:43:08 AM  Jun  2 2009 05:47:21:000AM     WEST  QUEEN   Q1  "
      ]
     },
     "execution_count": 14,
     "metadata": {},
     "output_type": "execute_result"
    }
   ],
   "source": [
    "train_call_data.head(1)"
   ]
  },
  {
   "cell_type": "code",
   "execution_count": 15,
   "metadata": {},
   "outputs": [],
   "source": [
    "tmp_data = pd.DataFrame()\n",
    "for x in train_call_data.drop(['Original Time Queued', 'Arrived Time'], axis=1).columns:\n",
    "    _, replaced = encode_column(train_call_data[x])\n",
    "    tmp_data[x] = replaced"
   ]
  },
  {
   "cell_type": "code",
   "execution_count": 16,
   "metadata": {
    "scrolled": true
   },
   "outputs": [
    {
     "data": {
      "text/html": [
       "<div>\n",
       "<style scoped>\n",
       "    .dataframe tbody tr th:only-of-type {\n",
       "        vertical-align: middle;\n",
       "    }\n",
       "\n",
       "    .dataframe tbody tr th {\n",
       "        vertical-align: top;\n",
       "    }\n",
       "\n",
       "    .dataframe thead th {\n",
       "        text-align: right;\n",
       "    }\n",
       "</style>\n",
       "<table border=\"1\" class=\"dataframe\">\n",
       "  <thead>\n",
       "    <tr style=\"text-align: right;\">\n",
       "      <th></th>\n",
       "      <th>Event Clearance Description</th>\n",
       "      <th>Call Type</th>\n",
       "      <th>Priority</th>\n",
       "      <th>Initial Call Type</th>\n",
       "      <th>Final Call Type</th>\n",
       "      <th>Precinct</th>\n",
       "      <th>Sector</th>\n",
       "      <th>Beat</th>\n",
       "    </tr>\n",
       "  </thead>\n",
       "  <tbody>\n",
       "    <tr>\n",
       "      <th>Event Clearance Description</th>\n",
       "      <td>1.000000</td>\n",
       "      <td>0.174016</td>\n",
       "      <td>0.069910</td>\n",
       "      <td>0.097139</td>\n",
       "      <td>0.278728</td>\n",
       "      <td>-0.032752</td>\n",
       "      <td>-0.034164</td>\n",
       "      <td>-0.017019</td>\n",
       "    </tr>\n",
       "    <tr>\n",
       "      <th>Call Type</th>\n",
       "      <td>0.174016</td>\n",
       "      <td>1.000000</td>\n",
       "      <td>-0.084475</td>\n",
       "      <td>0.012884</td>\n",
       "      <td>0.156335</td>\n",
       "      <td>0.023755</td>\n",
       "      <td>0.005382</td>\n",
       "      <td>0.001365</td>\n",
       "    </tr>\n",
       "    <tr>\n",
       "      <th>Priority</th>\n",
       "      <td>0.069910</td>\n",
       "      <td>-0.084475</td>\n",
       "      <td>1.000000</td>\n",
       "      <td>0.234399</td>\n",
       "      <td>-0.025338</td>\n",
       "      <td>-0.031780</td>\n",
       "      <td>-0.018081</td>\n",
       "      <td>-0.014382</td>\n",
       "    </tr>\n",
       "    <tr>\n",
       "      <th>Initial Call Type</th>\n",
       "      <td>0.097139</td>\n",
       "      <td>0.012884</td>\n",
       "      <td>0.234399</td>\n",
       "      <td>1.000000</td>\n",
       "      <td>0.268713</td>\n",
       "      <td>0.014020</td>\n",
       "      <td>0.005388</td>\n",
       "      <td>0.006302</td>\n",
       "    </tr>\n",
       "    <tr>\n",
       "      <th>Final Call Type</th>\n",
       "      <td>0.278728</td>\n",
       "      <td>0.156335</td>\n",
       "      <td>-0.025338</td>\n",
       "      <td>0.268713</td>\n",
       "      <td>1.000000</td>\n",
       "      <td>0.030101</td>\n",
       "      <td>0.021750</td>\n",
       "      <td>0.014177</td>\n",
       "    </tr>\n",
       "    <tr>\n",
       "      <th>Precinct</th>\n",
       "      <td>-0.032752</td>\n",
       "      <td>0.023755</td>\n",
       "      <td>-0.031780</td>\n",
       "      <td>0.014020</td>\n",
       "      <td>0.030101</td>\n",
       "      <td>1.000000</td>\n",
       "      <td>0.690733</td>\n",
       "      <td>0.397231</td>\n",
       "    </tr>\n",
       "    <tr>\n",
       "      <th>Sector</th>\n",
       "      <td>-0.034164</td>\n",
       "      <td>0.005382</td>\n",
       "      <td>-0.018081</td>\n",
       "      <td>0.005388</td>\n",
       "      <td>0.021750</td>\n",
       "      <td>0.690733</td>\n",
       "      <td>1.000000</td>\n",
       "      <td>0.483555</td>\n",
       "    </tr>\n",
       "    <tr>\n",
       "      <th>Beat</th>\n",
       "      <td>-0.017019</td>\n",
       "      <td>0.001365</td>\n",
       "      <td>-0.014382</td>\n",
       "      <td>0.006302</td>\n",
       "      <td>0.014177</td>\n",
       "      <td>0.397231</td>\n",
       "      <td>0.483555</td>\n",
       "      <td>1.000000</td>\n",
       "    </tr>\n",
       "  </tbody>\n",
       "</table>\n",
       "</div>"
      ],
      "text/plain": [
       "                             Event Clearance Description  Call Type  Priority  \\\n",
       "Event Clearance Description                     1.000000   0.174016  0.069910   \n",
       "Call Type                                       0.174016   1.000000 -0.084475   \n",
       "Priority                                        0.069910  -0.084475  1.000000   \n",
       "Initial Call Type                               0.097139   0.012884  0.234399   \n",
       "Final Call Type                                 0.278728   0.156335 -0.025338   \n",
       "Precinct                                       -0.032752   0.023755 -0.031780   \n",
       "Sector                                         -0.034164   0.005382 -0.018081   \n",
       "Beat                                           -0.017019   0.001365 -0.014382   \n",
       "\n",
       "                             Initial Call Type  Final Call Type  Precinct  \\\n",
       "Event Clearance Description           0.097139         0.278728 -0.032752   \n",
       "Call Type                             0.012884         0.156335  0.023755   \n",
       "Priority                              0.234399        -0.025338 -0.031780   \n",
       "Initial Call Type                     1.000000         0.268713  0.014020   \n",
       "Final Call Type                       0.268713         1.000000  0.030101   \n",
       "Precinct                              0.014020         0.030101  1.000000   \n",
       "Sector                                0.005388         0.021750  0.690733   \n",
       "Beat                                  0.006302         0.014177  0.397231   \n",
       "\n",
       "                               Sector      Beat  \n",
       "Event Clearance Description -0.034164 -0.017019  \n",
       "Call Type                    0.005382  0.001365  \n",
       "Priority                    -0.018081 -0.014382  \n",
       "Initial Call Type            0.005388  0.006302  \n",
       "Final Call Type              0.021750  0.014177  \n",
       "Precinct                     0.690733  0.397231  \n",
       "Sector                       1.000000  0.483555  \n",
       "Beat                         0.483555  1.000000  "
      ]
     },
     "execution_count": 16,
     "metadata": {},
     "output_type": "execute_result"
    }
   ],
   "source": [
    "tmp_data.corr()"
   ]
  },
  {
   "cell_type": "markdown",
   "metadata": {},
   "source": [
    "**Uma observação importante** é que retiramos as colunas que envolvem data/hora desta primeira análise porque elas não apresentam um padrão (ou classes). Devemos então focar, para poder analisar estes resultados, tentar extrair generalizações destas colunas como, por sugestão nossa: **o período do dia (manhã, tarde, noite ou madrugada), o dia da semana ou o tempo decorrido entre o momendo da chamada e o atendimento**."
   ]
  },
  {
   "cell_type": "code",
   "execution_count": 17,
   "metadata": {},
   "outputs": [
    {
     "data": {
      "text/plain": [
       "Event Clearance Description    1.000000\n",
       "Call Type                      0.174016\n",
       "Priority                       0.069910\n",
       "Initial Call Type              0.097139\n",
       "Final Call Type                0.278728\n",
       "Precinct                      -0.032752\n",
       "Sector                        -0.034164\n",
       "Beat                          -0.017019\n",
       "Name: Event Clearance Description, dtype: float64"
      ]
     },
     "execution_count": 17,
     "metadata": {},
     "output_type": "execute_result"
    }
   ],
   "source": [
    "data_corr = tmp_data.corr()['Event Clearance Description']\n",
    "data_corr"
   ]
  },
  {
   "cell_type": "markdown",
   "metadata": {},
   "source": [
    "Quando esquecemos as correlações das outras variáveis e focamos somente em nossa _target_, encontramos que existe uma relação de **27% entre o tipo final da chamada ('Final Call Type') com a resulação desta ('Event Clearance Description')**. Unindo esta constatação poderíamos unir nossos esforços na análise das variáveis que maior impactam o nosso resultado. "
   ]
  },
  {
   "cell_type": "markdown",
   "metadata": {},
   "source": [
    "Mas ficam duas perguntas que precisamos responder quando analisamos as correlações. "
   ]
  },
  {
   "cell_type": "markdown",
   "metadata": {},
   "source": [
    "A primeira delas é: _O que representam estes valores negativos?_"
   ]
  },
  {
   "cell_type": "code",
   "execution_count": 18,
   "metadata": {},
   "outputs": [
    {
     "data": {
      "text/plain": [
       "Precinct   -0.032752\n",
       "Sector     -0.034164\n",
       "Beat       -0.017019\n",
       "Name: Event Clearance Description, dtype: float64"
      ]
     },
     "execution_count": 18,
     "metadata": {},
     "output_type": "execute_result"
    }
   ],
   "source": [
    "data_corr[5:]"
   ]
  },
  {
   "cell_type": "markdown",
   "metadata": {},
   "source": [
    "Correlação negativa representa uma relação inversa não entre as variáveis, mas entre seus valores. O que queremos dizer? Quando a classe da primeira variável cresce (e estamos falando do código único), o identificador da variável resultado tende a cair (também falando do _id_). Em nosso caso, como estamos analisando quais variáveis influenciam mais na nossa _target_, podemos olhar valores absolutos (desconsiderando o valor negativo porque o id não é importante para a gente, mas somente o fato de que alterando uma variável a outra sofrerá modificações). "
   ]
  },
  {
   "cell_type": "code",
   "execution_count": 19,
   "metadata": {},
   "outputs": [
    {
     "data": {
      "text/plain": [
       "Beat                           0.017019\n",
       "Precinct                       0.032752\n",
       "Sector                         0.034164\n",
       "Priority                       0.069910\n",
       "Initial Call Type              0.097139\n",
       "Call Type                      0.174016\n",
       "Final Call Type                0.278728\n",
       "Event Clearance Description    1.000000\n",
       "Name: Event Clearance Description, dtype: float64"
      ]
     },
     "execution_count": 19,
     "metadata": {},
     "output_type": "execute_result"
    }
   ],
   "source": [
    "data_corr.abs().sort_values()"
   ]
  },
  {
   "cell_type": "markdown",
   "metadata": {},
   "source": [
    "E a segunda é: _Por que a soma não apresenta 100%?_"
   ]
  },
  {
   "cell_type": "code",
   "execution_count": 20,
   "metadata": {},
   "outputs": [
    {
     "data": {
      "text/plain": [
       "0.5358582846415003"
      ]
     },
     "execution_count": 20,
     "metadata": {},
     "output_type": "execute_result"
    }
   ],
   "source": [
    "data_corr.sum()-1"
   ]
  },
  {
   "cell_type": "markdown",
   "metadata": {},
   "source": [
    "A resposta para esta pergunta é mais simples justamente pela justificativa que o resultado da correlação não é sobre qual variável é mais importante no conjunto, mas como uma variável influencia outra (as análises são independentes). Se quiséssimos calcular uma proporção, poderíamos fazer calculando um valor percentual sobre todas a variáveis envolvidas."
   ]
  },
  {
   "cell_type": "markdown",
   "metadata": {},
   "source": [
    "**Note** que o modificador constante -1 acima é para retirar o valor 1 presente na correlação da variável com ela mesma (última linha na apresentação das correlações)."
   ]
  },
  {
   "cell_type": "code",
   "execution_count": 21,
   "metadata": {},
   "outputs": [
    {
     "data": {
      "text/plain": [
       "0.7037272415891818"
      ]
     },
     "execution_count": 21,
     "metadata": {},
     "output_type": "execute_result"
    }
   ],
   "source": [
    "data_corr.abs().sum()-1"
   ]
  },
  {
   "cell_type": "code",
   "execution_count": 22,
   "metadata": {},
   "outputs": [],
   "source": [
    "pie_data = data_corr.abs().sort_values()[:7]/0.7037272415891818"
   ]
  },
  {
   "cell_type": "code",
   "execution_count": 23,
   "metadata": {},
   "outputs": [
    {
     "data": {
      "image/png": "[encoded data removed]",
      "text/plain": [
       "<Figure size 432x288 with 1 Axes>"
      ]
     },
     "metadata": {},
     "output_type": "display_data"
    }
   ],
   "source": [
    "plt.pie(pie_data, labels=pie_data.index)\n",
    "plt.title(\"Correlação entre variáveis\")\n",
    "plt.show()"
   ]
  },
  {
   "cell_type": "markdown",
   "metadata": {},
   "source": [
    "#### Analisando tipo de resolução contra variáveis de tempo"
   ]
  },
  {
   "cell_type": "code",
   "execution_count": 24,
   "metadata": {},
   "outputs": [],
   "source": [
    "X_time = train_call_data.loc[:,['Original Time Queued', 'Arrived Time']]"
   ]
  },
  {
   "cell_type": "code",
   "execution_count": 25,
   "metadata": {},
   "outputs": [],
   "source": [
    "X_time['Original Time Queued'] = pd.to_datetime(X_time['Original Time Queued'])"
   ]
  },
  {
   "cell_type": "code",
   "execution_count": 26,
   "metadata": {},
   "outputs": [],
   "source": [
    "X_time['Arrived Time'] = pd.to_datetime(X_time['Arrived Time'], format='%b  %d %Y %H:%M:%S:%f%p')"
   ]
  },
  {
   "cell_type": "code",
   "execution_count": 27,
   "metadata": {},
   "outputs": [],
   "source": [
    "X_time['diff_minutes'] = (X_time['Arrived Time']-X_time['Original Time Queued']).astype('timedelta64[m]')"
   ]
  },
  {
   "cell_type": "code",
   "execution_count": 28,
   "metadata": {},
   "outputs": [],
   "source": [
    "X_time['day_of_week'] = X_time['Original Time Queued'].dt.dayofweek"
   ]
  },
  {
   "cell_type": "markdown",
   "metadata": {},
   "source": [
    "Para definir o período, primeiro precisamos identificar os intervalos. Optamos por escolher:\n",
    "* Das 4 as 12, o período 1\n",
    "* Das 12 as 8, período 2\n",
    "* Demias, período 3"
   ]
  },
  {
   "cell_type": "code",
   "execution_count": 29,
   "metadata": {},
   "outputs": [],
   "source": [
    "def get_period_from_hour(hour):\n",
    "    if hour >= 6 and hour <= 11:\n",
    "        return 'Matutino'\n",
    "    else:\n",
    "        if hour >= 12 and hour <= 17:\n",
    "            return 'Vespertino'\n",
    "        else:\n",
    "            if hour >= 18 and hour <= 23:\n",
    "                return 'Noturno'\n",
    "            else:\n",
    "                return 'Madrugada'"
   ]
  },
  {
   "cell_type": "code",
   "execution_count": 30,
   "metadata": {},
   "outputs": [],
   "source": [
    "X_time['date_period'] = X_time['Original Time Queued'].dt.hour.map(get_period_from_hour)"
   ]
  },
  {
   "cell_type": "code",
   "execution_count": 31,
   "metadata": {},
   "outputs": [
    {
     "data": {
      "text/plain": [
       "False"
      ]
     },
     "execution_count": 31,
     "metadata": {},
     "output_type": "execute_result"
    }
   ],
   "source": [
    "X_time['date_period'].isnull().any()"
   ]
  },
  {
   "cell_type": "markdown",
   "metadata": {},
   "source": [
    "E agora listando todas as colunas que nos são relevantes"
   ]
  },
  {
   "cell_type": "code",
   "execution_count": 32,
   "metadata": {},
   "outputs": [],
   "source": [
    "X_time = X_time.iloc[:,2:]"
   ]
  },
  {
   "cell_type": "markdown",
   "metadata": {},
   "source": [
    "Uma ves que conseguimos separar as variáveis de tempo, devemos fazer um estudo mais ou menos como foi feito com as outras variáveis. Para isto, devemos inserir a nossa coluna alvo para uma análise do comportamento das variáveis."
   ]
  },
  {
   "cell_type": "code",
   "execution_count": 33,
   "metadata": {},
   "outputs": [],
   "source": [
    "X_time['Target']= train_call_data['Event Clearance Description']"
   ]
  },
  {
   "cell_type": "code",
   "execution_count": 34,
   "metadata": {},
   "outputs": [
    {
     "data": {
      "text/html": [
       "<div>\n",
       "<style scoped>\n",
       "    .dataframe tbody tr th:only-of-type {\n",
       "        vertical-align: middle;\n",
       "    }\n",
       "\n",
       "    .dataframe tbody tr th {\n",
       "        vertical-align: top;\n",
       "    }\n",
       "\n",
       "    .dataframe thead th {\n",
       "        text-align: right;\n",
       "    }\n",
       "</style>\n",
       "<table border=\"1\" class=\"dataframe\">\n",
       "  <thead>\n",
       "    <tr style=\"text-align: right;\">\n",
       "      <th></th>\n",
       "      <th>diff_minutes</th>\n",
       "      <th>day_of_week</th>\n",
       "      <th>date_period</th>\n",
       "      <th>Target</th>\n",
       "    </tr>\n",
       "  </thead>\n",
       "  <tbody>\n",
       "    <tr>\n",
       "      <th>0</th>\n",
       "      <td>124.0</td>\n",
       "      <td>1</td>\n",
       "      <td>Madrugada</td>\n",
       "      <td>CITATION ISSUED (CRIMINAL OR NON-CRIMINAL)</td>\n",
       "    </tr>\n",
       "    <tr>\n",
       "      <th>1</th>\n",
       "      <td>0.0</td>\n",
       "      <td>1</td>\n",
       "      <td>Madrugada</td>\n",
       "      <td>PROBLEM SOLVING PROJECT</td>\n",
       "    </tr>\n",
       "    <tr>\n",
       "      <th>2</th>\n",
       "      <td>28.0</td>\n",
       "      <td>1</td>\n",
       "      <td>Madrugada</td>\n",
       "      <td>UNABLE TO LOCATE INCIDENT OR COMPLAINANT</td>\n",
       "    </tr>\n",
       "    <tr>\n",
       "      <th>3</th>\n",
       "      <td>-57547675.0</td>\n",
       "      <td>1</td>\n",
       "      <td>Madrugada</td>\n",
       "      <td>REPORT WRITTEN (NO ARREST)</td>\n",
       "    </tr>\n",
       "    <tr>\n",
       "      <th>4</th>\n",
       "      <td>0.0</td>\n",
       "      <td>1</td>\n",
       "      <td>Madrugada</td>\n",
       "      <td>REPORT WRITTEN (NO ARREST)</td>\n",
       "    </tr>\n",
       "    <tr>\n",
       "      <th>5</th>\n",
       "      <td>67.0</td>\n",
       "      <td>1</td>\n",
       "      <td>Madrugada</td>\n",
       "      <td>ORAL WARNING GIVEN</td>\n",
       "    </tr>\n",
       "    <tr>\n",
       "      <th>6</th>\n",
       "      <td>14.0</td>\n",
       "      <td>1</td>\n",
       "      <td>Madrugada</td>\n",
       "      <td>UNABLE TO LOCATE INCIDENT OR COMPLAINANT</td>\n",
       "    </tr>\n",
       "    <tr>\n",
       "      <th>7</th>\n",
       "      <td>-57547691.0</td>\n",
       "      <td>1</td>\n",
       "      <td>Madrugada</td>\n",
       "      <td>UNABLE TO LOCATE INCIDENT OR COMPLAINANT</td>\n",
       "    </tr>\n",
       "    <tr>\n",
       "      <th>8</th>\n",
       "      <td>45.0</td>\n",
       "      <td>1</td>\n",
       "      <td>Madrugada</td>\n",
       "      <td>UNABLE TO LOCATE INCIDENT OR COMPLAINANT</td>\n",
       "    </tr>\n",
       "    <tr>\n",
       "      <th>9</th>\n",
       "      <td>0.0</td>\n",
       "      <td>1</td>\n",
       "      <td>Madrugada</td>\n",
       "      <td>ORAL WARNING GIVEN</td>\n",
       "    </tr>\n",
       "  </tbody>\n",
       "</table>\n",
       "</div>"
      ],
      "text/plain": [
       "   diff_minutes  day_of_week date_period  \\\n",
       "0         124.0            1   Madrugada   \n",
       "1           0.0            1   Madrugada   \n",
       "2          28.0            1   Madrugada   \n",
       "3   -57547675.0            1   Madrugada   \n",
       "4           0.0            1   Madrugada   \n",
       "5          67.0            1   Madrugada   \n",
       "6          14.0            1   Madrugada   \n",
       "7   -57547691.0            1   Madrugada   \n",
       "8          45.0            1   Madrugada   \n",
       "9           0.0            1   Madrugada   \n",
       "\n",
       "                                       Target  \n",
       "0  CITATION ISSUED (CRIMINAL OR NON-CRIMINAL)  \n",
       "1                     PROBLEM SOLVING PROJECT  \n",
       "2    UNABLE TO LOCATE INCIDENT OR COMPLAINANT  \n",
       "3                  REPORT WRITTEN (NO ARREST)  \n",
       "4                  REPORT WRITTEN (NO ARREST)  \n",
       "5                          ORAL WARNING GIVEN  \n",
       "6    UNABLE TO LOCATE INCIDENT OR COMPLAINANT  \n",
       "7    UNABLE TO LOCATE INCIDENT OR COMPLAINANT  \n",
       "8    UNABLE TO LOCATE INCIDENT OR COMPLAINANT  \n",
       "9                          ORAL WARNING GIVEN  "
      ]
     },
     "execution_count": 34,
     "metadata": {},
     "output_type": "execute_result"
    }
   ],
   "source": [
    "X_time.head(10)"
   ]
  },
  {
   "cell_type": "code",
   "execution_count": 35,
   "metadata": {},
   "outputs": [],
   "source": [
    "X_time['Target'] = X_time['Target'].replace(target_encode)"
   ]
  },
  {
   "cell_type": "code",
   "execution_count": 36,
   "metadata": {},
   "outputs": [
    {
     "data": {
      "text/html": [
       "<div>\n",
       "<style scoped>\n",
       "    .dataframe tbody tr th:only-of-type {\n",
       "        vertical-align: middle;\n",
       "    }\n",
       "\n",
       "    .dataframe tbody tr th {\n",
       "        vertical-align: top;\n",
       "    }\n",
       "\n",
       "    .dataframe thead th {\n",
       "        text-align: right;\n",
       "    }\n",
       "</style>\n",
       "<table border=\"1\" class=\"dataframe\">\n",
       "  <thead>\n",
       "    <tr style=\"text-align: right;\">\n",
       "      <th></th>\n",
       "      <th>diff_minutes</th>\n",
       "      <th>day_of_week</th>\n",
       "      <th>date_period</th>\n",
       "      <th>Target</th>\n",
       "    </tr>\n",
       "  </thead>\n",
       "  <tbody>\n",
       "    <tr>\n",
       "      <th>0</th>\n",
       "      <td>124.0</td>\n",
       "      <td>1</td>\n",
       "      <td>Madrugada</td>\n",
       "      <td>0</td>\n",
       "    </tr>\n",
       "    <tr>\n",
       "      <th>1</th>\n",
       "      <td>0.0</td>\n",
       "      <td>1</td>\n",
       "      <td>Madrugada</td>\n",
       "      <td>1</td>\n",
       "    </tr>\n",
       "    <tr>\n",
       "      <th>2</th>\n",
       "      <td>28.0</td>\n",
       "      <td>1</td>\n",
       "      <td>Madrugada</td>\n",
       "      <td>2</td>\n",
       "    </tr>\n",
       "    <tr>\n",
       "      <th>3</th>\n",
       "      <td>-57547675.0</td>\n",
       "      <td>1</td>\n",
       "      <td>Madrugada</td>\n",
       "      <td>3</td>\n",
       "    </tr>\n",
       "    <tr>\n",
       "      <th>4</th>\n",
       "      <td>0.0</td>\n",
       "      <td>1</td>\n",
       "      <td>Madrugada</td>\n",
       "      <td>3</td>\n",
       "    </tr>\n",
       "    <tr>\n",
       "      <th>5</th>\n",
       "      <td>67.0</td>\n",
       "      <td>1</td>\n",
       "      <td>Madrugada</td>\n",
       "      <td>4</td>\n",
       "    </tr>\n",
       "    <tr>\n",
       "      <th>6</th>\n",
       "      <td>14.0</td>\n",
       "      <td>1</td>\n",
       "      <td>Madrugada</td>\n",
       "      <td>2</td>\n",
       "    </tr>\n",
       "    <tr>\n",
       "      <th>7</th>\n",
       "      <td>-57547691.0</td>\n",
       "      <td>1</td>\n",
       "      <td>Madrugada</td>\n",
       "      <td>2</td>\n",
       "    </tr>\n",
       "    <tr>\n",
       "      <th>8</th>\n",
       "      <td>45.0</td>\n",
       "      <td>1</td>\n",
       "      <td>Madrugada</td>\n",
       "      <td>2</td>\n",
       "    </tr>\n",
       "    <tr>\n",
       "      <th>9</th>\n",
       "      <td>0.0</td>\n",
       "      <td>1</td>\n",
       "      <td>Madrugada</td>\n",
       "      <td>4</td>\n",
       "    </tr>\n",
       "  </tbody>\n",
       "</table>\n",
       "</div>"
      ],
      "text/plain": [
       "   diff_minutes  day_of_week date_period  Target\n",
       "0         124.0            1   Madrugada       0\n",
       "1           0.0            1   Madrugada       1\n",
       "2          28.0            1   Madrugada       2\n",
       "3   -57547675.0            1   Madrugada       3\n",
       "4           0.0            1   Madrugada       3\n",
       "5          67.0            1   Madrugada       4\n",
       "6          14.0            1   Madrugada       2\n",
       "7   -57547691.0            1   Madrugada       2\n",
       "8          45.0            1   Madrugada       2\n",
       "9           0.0            1   Madrugada       4"
      ]
     },
     "execution_count": 36,
     "metadata": {},
     "output_type": "execute_result"
    }
   ],
   "source": [
    "X_time.head(10)"
   ]
  },
  {
   "cell_type": "markdown",
   "metadata": {},
   "source": [
    "Analisando o tempo de atendimento por tipo de evento."
   ]
  },
  {
   "cell_type": "code",
   "execution_count": 37,
   "metadata": {},
   "outputs": [
    {
     "data": {
      "text/plain": [
       "-720.0         20232\n",
       " 0.0           14385\n",
       " 720.0          1891\n",
       "-716.0          1366\n",
       "-715.0          1344\n",
       "-717.0          1298\n",
       "-714.0          1194\n",
       "-713.0          1169\n",
       "-718.0          1116\n",
       "-712.0          1021\n",
       " 4.0             940\n",
       " 3.0             932\n",
       "-711.0           925\n",
       " 6.0             904\n",
       " 5.0             890\n",
       "-719.0           879\n",
       "-710.0           846\n",
       " 2.0             809\n",
       " 7.0             781\n",
       "-709.0           762\n",
       " 8.0             713\n",
       "-708.0           698\n",
       " 9.0             656\n",
       " 1.0             608\n",
       "-707.0           602\n",
       " 10.0            597\n",
       "-706.0           552\n",
       " 11.0            546\n",
       "-705.0           515\n",
       " 12.0            483\n",
       "               ...  \n",
       "-57604553.0        1\n",
       "-57604750.0        1\n",
       "-57604839.0        1\n",
       "-57604937.0        1\n",
       "-57605029.0        1\n",
       "-57611748.0        1\n",
       "-57603271.0        1\n",
       "-57603235.0        1\n",
       "-57603136.0        1\n",
       "-57603078.0        1\n",
       "-57601280.0        1\n",
       "-57601374.0        1\n",
       "-57601454.0        1\n",
       "-57601591.0        1\n",
       "-57601641.0        1\n",
       "-57601675.0        1\n",
       "-57601825.0        1\n",
       "-57601893.0        1\n",
       "-57601931.0        1\n",
       "-57601985.0        1\n",
       "-57602206.0        1\n",
       "-57602594.0        1\n",
       "-57602625.0        1\n",
       "-57602690.0        1\n",
       "-57602752.0        1\n",
       "-57602829.0        1\n",
       "-57602886.0        1\n",
       "-57602972.0        1\n",
       "-57603024.0        1\n",
       "-57783089.0        1\n",
       "Name: diff_minutes, Length: 6599, dtype: int64"
      ]
     },
     "execution_count": 37,
     "metadata": {},
     "output_type": "execute_result"
    }
   ],
   "source": [
    "X_time['diff_minutes'].value_counts()"
   ]
  },
  {
   "cell_type": "markdown",
   "metadata": {},
   "source": [
    "Vemos números exorbiantes. Devemos interpretar como _outliers_ ou como uma característica de determinados eventos?"
   ]
  },
  {
   "cell_type": "code",
   "execution_count": 38,
   "metadata": {},
   "outputs": [
    {
     "data": {
      "text/html": [
       "<div>\n",
       "<style scoped>\n",
       "    .dataframe tbody tr th:only-of-type {\n",
       "        vertical-align: middle;\n",
       "    }\n",
       "\n",
       "    .dataframe tbody tr th {\n",
       "        vertical-align: top;\n",
       "    }\n",
       "\n",
       "    .dataframe thead th {\n",
       "        text-align: right;\n",
       "    }\n",
       "</style>\n",
       "<table border=\"1\" class=\"dataframe\">\n",
       "  <thead>\n",
       "    <tr style=\"text-align: right;\">\n",
       "      <th></th>\n",
       "      <th>diff_minutes</th>\n",
       "      <th>day_of_week</th>\n",
       "      <th>date_period</th>\n",
       "      <th>Target</th>\n",
       "    </tr>\n",
       "  </thead>\n",
       "  <tbody>\n",
       "    <tr>\n",
       "      <th>79446</th>\n",
       "      <td>-57783089.0</td>\n",
       "      <td>3</td>\n",
       "      <td>Vespertino</td>\n",
       "      <td>0</td>\n",
       "    </tr>\n",
       "  </tbody>\n",
       "</table>\n",
       "</div>"
      ],
      "text/plain": [
       "       diff_minutes  day_of_week date_period  Target\n",
       "79446   -57783089.0            3  Vespertino       0"
      ]
     },
     "execution_count": 38,
     "metadata": {},
     "output_type": "execute_result"
    }
   ],
   "source": [
    "X_time[X_time.diff_minutes == -57783089.0]"
   ]
  },
  {
   "cell_type": "code",
   "execution_count": 39,
   "metadata": {},
   "outputs": [
    {
     "data": {
      "text/plain": [
       "Event Clearance Description         CITATION ISSUED (CRIMINAL OR NON-CRIMINAL)\n",
       "Call Type                                             TELEPHONE OTHER, NOT 911\n",
       "Priority                                                                     3\n",
       "Initial Call Type                     PARKING VIOLATION (EXCEPT ABANDONED CAR)\n",
       "Final Call Type                --TRAFFIC - PARKING VIOL (EXCEPT ABANDONED CAR)\n",
       "Original Time Queued                                    11/12/2009 03:28:15 PM\n",
       "Arrived Time                                        Jan  1 1900 12:00:00:000AM\n",
       "Precinct                                                                  WEST\n",
       "Sector                                                                   QUEEN\n",
       "Beat                                                                        Q3\n",
       "Name: 79446, dtype: object"
      ]
     },
     "execution_count": 39,
     "metadata": {},
     "output_type": "execute_result"
    }
   ],
   "source": [
    "train_call_data.iloc[79446]"
   ]
  },
  {
   "cell_type": "code",
   "execution_count": 40,
   "metadata": {},
   "outputs": [
    {
     "data": {
      "text/html": [
       "<div>\n",
       "<style scoped>\n",
       "    .dataframe tbody tr th:only-of-type {\n",
       "        vertical-align: middle;\n",
       "    }\n",
       "\n",
       "    .dataframe tbody tr th {\n",
       "        vertical-align: top;\n",
       "    }\n",
       "\n",
       "    .dataframe thead th {\n",
       "        text-align: right;\n",
       "    }\n",
       "</style>\n",
       "<table border=\"1\" class=\"dataframe\">\n",
       "  <thead>\n",
       "    <tr style=\"text-align: right;\">\n",
       "      <th></th>\n",
       "      <th>Event Clearance Description</th>\n",
       "      <th>Call Type</th>\n",
       "      <th>Priority</th>\n",
       "      <th>Initial Call Type</th>\n",
       "      <th>Final Call Type</th>\n",
       "      <th>Original Time Queued</th>\n",
       "      <th>Arrived Time</th>\n",
       "      <th>Precinct</th>\n",
       "      <th>Sector</th>\n",
       "      <th>Beat</th>\n",
       "    </tr>\n",
       "  </thead>\n",
       "  <tbody>\n",
       "    <tr>\n",
       "      <th>14</th>\n",
       "      <td>CITATION ISSUED (CRIMINAL OR NON-CRIMINAL)</td>\n",
       "      <td>ONVIEW</td>\n",
       "      <td>3</td>\n",
       "      <td>PARKING VIOLATION (EXCEPT ABANDONED CAR)</td>\n",
       "      <td>PARKING VIOLATION (EXCEPT ABANDONED CAR)</td>\n",
       "      <td>06/02/2009 05:15:30 AM</td>\n",
       "      <td>Jun  2 2009 05:15:30:000AM</td>\n",
       "      <td>SOUTH</td>\n",
       "      <td>SAM</td>\n",
       "      <td>S3</td>\n",
       "    </tr>\n",
       "    <tr>\n",
       "      <th>24</th>\n",
       "      <td>UNABLE TO LOCATE INCIDENT OR COMPLAINANT</td>\n",
       "      <td>911</td>\n",
       "      <td>3</td>\n",
       "      <td>PARKING VIOLATION (EXCEPT ABANDONED CAR)</td>\n",
       "      <td>--TRAFFIC - PARKING VIOL (EXCEPT ABANDONED CAR)</td>\n",
       "      <td>06/02/2009 06:18:00 AM</td>\n",
       "      <td>Jan  1 1900 12:00:00:000AM</td>\n",
       "      <td>WEST</td>\n",
       "      <td>QUEEN</td>\n",
       "      <td>Q1</td>\n",
       "    </tr>\n",
       "    <tr>\n",
       "      <th>26</th>\n",
       "      <td>UNABLE TO LOCATE INCIDENT OR COMPLAINANT</td>\n",
       "      <td>TELEPHONE OTHER, NOT 911</td>\n",
       "      <td>3</td>\n",
       "      <td>PARKING VIOLATION (EXCEPT ABANDONED CAR)</td>\n",
       "      <td>--TRAFFIC - PARKING VIOL (EXCEPT ABANDONED CAR)</td>\n",
       "      <td>06/02/2009 06:27:11 AM</td>\n",
       "      <td>Jan  1 1900 12:00:00:000AM</td>\n",
       "      <td>NORTH</td>\n",
       "      <td>BOY</td>\n",
       "      <td>B2</td>\n",
       "    </tr>\n",
       "    <tr>\n",
       "      <th>28</th>\n",
       "      <td>UNABLE TO LOCATE INCIDENT OR COMPLAINANT</td>\n",
       "      <td>TELEPHONE OTHER, NOT 911</td>\n",
       "      <td>3</td>\n",
       "      <td>PARKING VIOLATION (EXCEPT ABANDONED CAR)</td>\n",
       "      <td>--TRAFFIC - PARKING VIOL (EXCEPT ABANDONED CAR)</td>\n",
       "      <td>06/02/2009 06:40:20 AM</td>\n",
       "      <td>Jan  1 1900 12:00:00:000AM</td>\n",
       "      <td>NORTH</td>\n",
       "      <td>LINCOLN</td>\n",
       "      <td>L2</td>\n",
       "    </tr>\n",
       "    <tr>\n",
       "      <th>31</th>\n",
       "      <td>UNABLE TO LOCATE INCIDENT OR COMPLAINANT</td>\n",
       "      <td>911</td>\n",
       "      <td>3</td>\n",
       "      <td>PARKING VIOLATION (EXCEPT ABANDONED CAR)</td>\n",
       "      <td>--TRAFFIC - PARKING VIOL (EXCEPT ABANDONED CAR)</td>\n",
       "      <td>06/02/2009 06:46:13 AM</td>\n",
       "      <td>Jan  1 1900 12:00:00:000AM</td>\n",
       "      <td>WEST</td>\n",
       "      <td>MARY</td>\n",
       "      <td>M1</td>\n",
       "    </tr>\n",
       "  </tbody>\n",
       "</table>\n",
       "</div>"
      ],
      "text/plain": [
       "                   Event Clearance Description                 Call Type  \\\n",
       "14  CITATION ISSUED (CRIMINAL OR NON-CRIMINAL)                    ONVIEW   \n",
       "24    UNABLE TO LOCATE INCIDENT OR COMPLAINANT                       911   \n",
       "26    UNABLE TO LOCATE INCIDENT OR COMPLAINANT  TELEPHONE OTHER, NOT 911   \n",
       "28    UNABLE TO LOCATE INCIDENT OR COMPLAINANT  TELEPHONE OTHER, NOT 911   \n",
       "31    UNABLE TO LOCATE INCIDENT OR COMPLAINANT                       911   \n",
       "\n",
       "    Priority                         Initial Call Type  \\\n",
       "14         3  PARKING VIOLATION (EXCEPT ABANDONED CAR)   \n",
       "24         3  PARKING VIOLATION (EXCEPT ABANDONED CAR)   \n",
       "26         3  PARKING VIOLATION (EXCEPT ABANDONED CAR)   \n",
       "28         3  PARKING VIOLATION (EXCEPT ABANDONED CAR)   \n",
       "31         3  PARKING VIOLATION (EXCEPT ABANDONED CAR)   \n",
       "\n",
       "                                    Final Call Type    Original Time Queued  \\\n",
       "14         PARKING VIOLATION (EXCEPT ABANDONED CAR)  06/02/2009 05:15:30 AM   \n",
       "24  --TRAFFIC - PARKING VIOL (EXCEPT ABANDONED CAR)  06/02/2009 06:18:00 AM   \n",
       "26  --TRAFFIC - PARKING VIOL (EXCEPT ABANDONED CAR)  06/02/2009 06:27:11 AM   \n",
       "28  --TRAFFIC - PARKING VIOL (EXCEPT ABANDONED CAR)  06/02/2009 06:40:20 AM   \n",
       "31  --TRAFFIC - PARKING VIOL (EXCEPT ABANDONED CAR)  06/02/2009 06:46:13 AM   \n",
       "\n",
       "                  Arrived Time Precinct   Sector Beat  \n",
       "14  Jun  2 2009 05:15:30:000AM    SOUTH      SAM   S3  \n",
       "24  Jan  1 1900 12:00:00:000AM     WEST    QUEEN   Q1  \n",
       "26  Jan  1 1900 12:00:00:000AM    NORTH      BOY   B2  \n",
       "28  Jan  1 1900 12:00:00:000AM    NORTH  LINCOLN   L2  \n",
       "31  Jan  1 1900 12:00:00:000AM     WEST     MARY   M1  "
      ]
     },
     "execution_count": 40,
     "metadata": {},
     "output_type": "execute_result"
    }
   ],
   "source": [
    "without_arrived_time = train_call_data[train_call_data['Initial Call Type'] == 'PARKING VIOLATION (EXCEPT ABANDONED CAR)']\n",
    "without_arrived_time.head(5)"
   ]
  },
  {
   "cell_type": "markdown",
   "metadata": {},
   "source": [
    "Quando isto acontece temos algumas possibilidades, como:"
   ]
  },
  {
   "cell_type": "markdown",
   "metadata": {},
   "source": [
    "a) Desconsiderar estes registros para continuar trabalhando com o intervalo de atendimento ou;<br>\n",
    "b) Preencher esta coluna com alguma informação. "
   ]
  },
  {
   "cell_type": "markdown",
   "metadata": {},
   "source": [
    "Optamos então por desconsiderar esta coluna da análise."
   ]
  },
  {
   "cell_type": "code",
   "execution_count": 41,
   "metadata": {},
   "outputs": [],
   "source": [
    "X_time.drop(['diff_minutes'], axis=1, inplace=True)"
   ]
  },
  {
   "cell_type": "code",
   "execution_count": 42,
   "metadata": {},
   "outputs": [
    {
     "data": {
      "text/html": [
       "<div>\n",
       "<style scoped>\n",
       "    .dataframe tbody tr th:only-of-type {\n",
       "        vertical-align: middle;\n",
       "    }\n",
       "\n",
       "    .dataframe tbody tr th {\n",
       "        vertical-align: top;\n",
       "    }\n",
       "\n",
       "    .dataframe thead th {\n",
       "        text-align: right;\n",
       "    }\n",
       "</style>\n",
       "<table border=\"1\" class=\"dataframe\">\n",
       "  <thead>\n",
       "    <tr style=\"text-align: right;\">\n",
       "      <th></th>\n",
       "      <th>day_of_week</th>\n",
       "      <th>date_period</th>\n",
       "      <th>Target</th>\n",
       "    </tr>\n",
       "  </thead>\n",
       "  <tbody>\n",
       "    <tr>\n",
       "      <th>0</th>\n",
       "      <td>1</td>\n",
       "      <td>Madrugada</td>\n",
       "      <td>0</td>\n",
       "    </tr>\n",
       "    <tr>\n",
       "      <th>1</th>\n",
       "      <td>1</td>\n",
       "      <td>Madrugada</td>\n",
       "      <td>1</td>\n",
       "    </tr>\n",
       "    <tr>\n",
       "      <th>2</th>\n",
       "      <td>1</td>\n",
       "      <td>Madrugada</td>\n",
       "      <td>2</td>\n",
       "    </tr>\n",
       "    <tr>\n",
       "      <th>3</th>\n",
       "      <td>1</td>\n",
       "      <td>Madrugada</td>\n",
       "      <td>3</td>\n",
       "    </tr>\n",
       "    <tr>\n",
       "      <th>4</th>\n",
       "      <td>1</td>\n",
       "      <td>Madrugada</td>\n",
       "      <td>3</td>\n",
       "    </tr>\n",
       "    <tr>\n",
       "      <th>5</th>\n",
       "      <td>1</td>\n",
       "      <td>Madrugada</td>\n",
       "      <td>4</td>\n",
       "    </tr>\n",
       "    <tr>\n",
       "      <th>6</th>\n",
       "      <td>1</td>\n",
       "      <td>Madrugada</td>\n",
       "      <td>2</td>\n",
       "    </tr>\n",
       "    <tr>\n",
       "      <th>7</th>\n",
       "      <td>1</td>\n",
       "      <td>Madrugada</td>\n",
       "      <td>2</td>\n",
       "    </tr>\n",
       "    <tr>\n",
       "      <th>8</th>\n",
       "      <td>1</td>\n",
       "      <td>Madrugada</td>\n",
       "      <td>2</td>\n",
       "    </tr>\n",
       "    <tr>\n",
       "      <th>9</th>\n",
       "      <td>1</td>\n",
       "      <td>Madrugada</td>\n",
       "      <td>4</td>\n",
       "    </tr>\n",
       "  </tbody>\n",
       "</table>\n",
       "</div>"
      ],
      "text/plain": [
       "   day_of_week date_period  Target\n",
       "0            1   Madrugada       0\n",
       "1            1   Madrugada       1\n",
       "2            1   Madrugada       2\n",
       "3            1   Madrugada       3\n",
       "4            1   Madrugada       3\n",
       "5            1   Madrugada       4\n",
       "6            1   Madrugada       2\n",
       "7            1   Madrugada       2\n",
       "8            1   Madrugada       2\n",
       "9            1   Madrugada       4"
      ]
     },
     "execution_count": 42,
     "metadata": {},
     "output_type": "execute_result"
    }
   ],
   "source": [
    "X_time.head(10)"
   ]
  },
  {
   "cell_type": "markdown",
   "metadata": {},
   "source": [
    "Entendendo agora a quantidade de registros por período"
   ]
  },
  {
   "cell_type": "code",
   "execution_count": 43,
   "metadata": {},
   "outputs": [
    {
     "data": {
      "text/plain": [
       "Vespertino    30260\n",
       "Noturno       27205\n",
       "Matutino      20723\n",
       "Madrugada     15714\n",
       "Name: date_period, dtype: int64"
      ]
     },
     "execution_count": 43,
     "metadata": {},
     "output_type": "execute_result"
    }
   ],
   "source": [
    "periods = X_time['date_period'].value_counts()\n",
    "periods"
   ]
  },
  {
   "cell_type": "code",
   "execution_count": 44,
   "metadata": {},
   "outputs": [
    {
     "data": {
      "image/png": "[encoded data removed]",
      "text/plain": [
       "<Figure size 432x288 with 1 Axes>"
      ]
     },
     "metadata": {
      "needs_background": "light"
     },
     "output_type": "display_data"
    }
   ],
   "source": [
    "plt.barh(periods.keys(), periods.values, tick_label=periods.keys())\n",
    "plt.title('Ocorrências por período do dia')\n",
    "plt.show()"
   ]
  },
  {
   "cell_type": "markdown",
   "metadata": {},
   "source": [
    "E a quantidade por dia da semana"
   ]
  },
  {
   "cell_type": "code",
   "execution_count": 45,
   "metadata": {},
   "outputs": [
    {
     "data": {
      "text/plain": [
       "4    14173\n",
       "1    13997\n",
       "2    13928\n",
       "3    13679\n",
       "0    13312\n",
       "5    13040\n",
       "6    11773\n",
       "Name: day_of_week, dtype: int64"
      ]
     },
     "execution_count": 45,
     "metadata": {},
     "output_type": "execute_result"
    }
   ],
   "source": [
    "days_of_week = X_time['day_of_week'].value_counts()\n",
    "days_of_week"
   ]
  },
  {
   "cell_type": "code",
   "execution_count": 46,
   "metadata": {},
   "outputs": [
    {
     "data": {
      "image/png": "[encoded data removed]",
      "text/plain": [
       "<Figure size 432x288 with 1 Axes>"
      ]
     },
     "metadata": {
      "needs_background": "light"
     },
     "output_type": "display_data"
    }
   ],
   "source": [
    "plt.barh(days_of_week.keys(), days_of_week.values, tick_label=days_of_week.keys())\n",
    "plt.title('Ocorrências por dia da semana')\n",
    "plt.show()"
   ]
  },
  {
   "cell_type": "markdown",
   "metadata": {},
   "source": [
    "Bom, pelo menos serviu para tirar a nossa curiosidade. :)"
   ]
  },
  {
   "cell_type": "markdown",
   "metadata": {},
   "source": [
    "### Preparando os dados para o modelo"
   ]
  },
  {
   "cell_type": "markdown",
   "metadata": {},
   "source": [
    "<strong>Processo de feature engineering<strong> "
   ]
  },
  {
   "cell_type": "markdown",
   "metadata": {},
   "source": [
    "O processo de \"_feature engineering_\" é a etapa onde selecionamos colunas que teriam seu maior impacto na melhoria da nossa análise, essa seleção faz com que extraímos o potencial máximo das _features_ de um _dataset_, aumentando a flexibilidade, simplicidade e acurácia dos modelos. Escolhemos sempre as _features_ que estão mais correlacionada com nosso alvo _target_."
   ]
  },
  {
   "cell_type": "code",
   "execution_count": 47,
   "metadata": {
    "scrolled": true
   },
   "outputs": [
    {
     "data": {
      "text/html": [
       "<div>\n",
       "<style scoped>\n",
       "    .dataframe tbody tr th:only-of-type {\n",
       "        vertical-align: middle;\n",
       "    }\n",
       "\n",
       "    .dataframe tbody tr th {\n",
       "        vertical-align: top;\n",
       "    }\n",
       "\n",
       "    .dataframe thead th {\n",
       "        text-align: right;\n",
       "    }\n",
       "</style>\n",
       "<table border=\"1\" class=\"dataframe\">\n",
       "  <thead>\n",
       "    <tr style=\"text-align: right;\">\n",
       "      <th></th>\n",
       "      <th>Event Clearance Description</th>\n",
       "      <th>Call Type</th>\n",
       "      <th>Priority</th>\n",
       "      <th>Initial Call Type</th>\n",
       "      <th>Final Call Type</th>\n",
       "      <th>Original Time Queued</th>\n",
       "      <th>Arrived Time</th>\n",
       "      <th>Precinct</th>\n",
       "      <th>Sector</th>\n",
       "      <th>Beat</th>\n",
       "    </tr>\n",
       "  </thead>\n",
       "  <tbody>\n",
       "    <tr>\n",
       "      <th>0</th>\n",
       "      <td>CITATION ISSUED (CRIMINAL OR NON-CRIMINAL)</td>\n",
       "      <td>TELEPHONE OTHER, NOT 911</td>\n",
       "      <td>3</td>\n",
       "      <td>TRAFFIC - BLOCKING ROADWAY</td>\n",
       "      <td>TRAFFIC - BLOCKING ROADWAY</td>\n",
       "      <td>06/02/2009 03:43:08 AM</td>\n",
       "      <td>Jun  2 2009 05:47:21:000AM</td>\n",
       "      <td>WEST</td>\n",
       "      <td>QUEEN</td>\n",
       "      <td>Q1</td>\n",
       "    </tr>\n",
       "  </tbody>\n",
       "</table>\n",
       "</div>"
      ],
      "text/plain": [
       "                  Event Clearance Description                 Call Type  \\\n",
       "0  CITATION ISSUED (CRIMINAL OR NON-CRIMINAL)  TELEPHONE OTHER, NOT 911   \n",
       "\n",
       "   Priority           Initial Call Type             Final Call Type  \\\n",
       "0         3  TRAFFIC - BLOCKING ROADWAY  TRAFFIC - BLOCKING ROADWAY   \n",
       "\n",
       "     Original Time Queued                Arrived Time Precinct Sector Beat  \n",
       "0  06/02/2009 03:43:08 AM  Jun  2 2009 05:47:21:000AM     WEST  QUEEN   Q1  "
      ]
     },
     "execution_count": 47,
     "metadata": {},
     "output_type": "execute_result"
    }
   ],
   "source": [
    "train_call_data.head(1)"
   ]
  },
  {
   "cell_type": "markdown",
   "metadata": {},
   "source": [
    "Separando a nossa coluna de aprendizado supervisionado."
   ]
  },
  {
   "cell_type": "code",
   "execution_count": 48,
   "metadata": {},
   "outputs": [],
   "source": [
    "y = train_call_data.iloc[:,0].values"
   ]
  },
  {
   "cell_type": "code",
   "execution_count": 49,
   "metadata": {},
   "outputs": [],
   "source": [
    "import collections"
   ]
  },
  {
   "cell_type": "code",
   "execution_count": 50,
   "metadata": {
    "scrolled": true
   },
   "outputs": [
    {
     "data": {
      "text/plain": [
       "Counter({'CITATION ISSUED (CRIMINAL OR NON-CRIMINAL)': 12673,\n",
       "         'PROBLEM SOLVING PROJECT': 3303,\n",
       "         'UNABLE TO LOCATE INCIDENT OR COMPLAINANT': 10150,\n",
       "         'REPORT WRITTEN (NO ARREST)': 38008,\n",
       "         'ORAL WARNING GIVEN': 16837,\n",
       "         'FALSE COMPLAINT/UNFOUNDED': 4527,\n",
       "         'PHYSICAL ARREST MADE': 8404})"
      ]
     },
     "execution_count": 50,
     "metadata": {},
     "output_type": "execute_result"
    }
   ],
   "source": [
    "collections.Counter(y)"
   ]
  },
  {
   "cell_type": "markdown",
   "metadata": {},
   "source": [
    "E, apesar da não necessidade, resolvemos por igualar as classes de saída a fim de usar a acurácia como medidor de qualidade de nossos algorítmos."
   ]
  },
  {
   "cell_type": "code",
   "execution_count": 51,
   "metadata": {},
   "outputs": [],
   "source": [
    "i_class0 = np.where(y == 'CITATION ISSUED (CRIMINAL OR NON-CRIMINAL)')[0]\n",
    "i_class1 = np.where(y == 'PROBLEM SOLVING PROJECT')[0]\n",
    "i_class2 = np.where(y == 'UNABLE TO LOCATE INCIDENT OR COMPLAINANT')[0]\n",
    "i_class3 = np.where(y == 'REPORT WRITTEN (NO ARREST)')[0]\n",
    "i_class4 = np.where(y == 'ORAL WARNING GIVEN')[0]\n",
    "i_class5 = np.where(y == 'FALSE COMPLAINT/UNFOUNDED')[0]\n",
    "i_class6 = np.where(y == 'PHYSICAL ARREST MADE')[0]"
   ]
  },
  {
   "cell_type": "code",
   "execution_count": 52,
   "metadata": {},
   "outputs": [],
   "source": [
    "n_class0 = len(i_class0)\n",
    "n_class1 = len(i_class1)\n",
    "n_class2 = len(i_class2)\n",
    "n_class3 = len(i_class3)\n",
    "n_class4 = len(i_class4)\n",
    "n_class5 = len(i_class5)\n",
    "n_class6 = len(i_class6)"
   ]
  },
  {
   "cell_type": "code",
   "execution_count": 53,
   "metadata": {},
   "outputs": [
    {
     "data": {
      "text/plain": [
       "3303"
      ]
     },
     "execution_count": 53,
     "metadata": {},
     "output_type": "execute_result"
    }
   ],
   "source": [
    "min(n_class0, n_class1, n_class2, n_class3, n_class4, n_class5, n_class6)"
   ]
  },
  {
   "cell_type": "code",
   "execution_count": 54,
   "metadata": {},
   "outputs": [],
   "source": [
    "i_class0_downsampled = np.random.choice(i_class0, size=n_class1, replace=False)\n",
    "i_class2_downsampled = np.random.choice(i_class2, size=n_class1, replace=False)\n",
    "i_class3_downsampled = np.random.choice(i_class3, size=n_class1, replace=False)\n",
    "i_class4_downsampled = np.random.choice(i_class4, size=n_class1, replace=False)\n",
    "i_class5_downsampled = np.random.choice(i_class5, size=n_class1, replace=False)\n",
    "i_class6_downsampled = np.random.choice(i_class6, size=n_class1, replace=False)"
   ]
  },
  {
   "cell_type": "code",
   "execution_count": 55,
   "metadata": {},
   "outputs": [],
   "source": [
    "y_downsampled = np.hstack((y[i_class0_downsampled],\\\n",
    "           y[i_class1],\\\n",
    "           y[i_class2_downsampled],\\\n",
    "           y[i_class3_downsampled],\\\n",
    "           y[i_class4_downsampled],\\\n",
    "           y[i_class5_downsampled],\\\n",
    "           y[i_class6_downsampled]))"
   ]
  },
  {
   "cell_type": "code",
   "execution_count": 56,
   "metadata": {},
   "outputs": [
    {
     "data": {
      "text/plain": [
       "Counter({'CITATION ISSUED (CRIMINAL OR NON-CRIMINAL)': 3303,\n",
       "         'PROBLEM SOLVING PROJECT': 3303,\n",
       "         'UNABLE TO LOCATE INCIDENT OR COMPLAINANT': 3303,\n",
       "         'REPORT WRITTEN (NO ARREST)': 3303,\n",
       "         'ORAL WARNING GIVEN': 3303,\n",
       "         'FALSE COMPLAINT/UNFOUNDED': 3303,\n",
       "         'PHYSICAL ARREST MADE': 3303})"
      ]
     },
     "execution_count": 56,
     "metadata": {},
     "output_type": "execute_result"
    }
   ],
   "source": [
    "collections.Counter(y_downsampled)"
   ]
  },
  {
   "cell_type": "markdown",
   "metadata": {},
   "source": [
    "Removendo colunas de datas (vimos que não vale a pena analisá-las aqui)"
   ]
  },
  {
   "cell_type": "code",
   "execution_count": 57,
   "metadata": {},
   "outputs": [],
   "source": [
    "train_call_data.drop(['Original Time Queued', 'Arrived Time'], axis=1, inplace=True)"
   ]
  },
  {
   "cell_type": "markdown",
   "metadata": {},
   "source": [
    "Verificando as colunas correlacionadas"
   ]
  },
  {
   "cell_type": "code",
   "execution_count": 58,
   "metadata": {},
   "outputs": [],
   "source": [
    "X_dataframe = train_call_data.iloc[:,1:]"
   ]
  },
  {
   "cell_type": "code",
   "execution_count": 59,
   "metadata": {},
   "outputs": [
    {
     "data": {
      "text/html": [
       "<div>\n",
       "<style scoped>\n",
       "    .dataframe tbody tr th:only-of-type {\n",
       "        vertical-align: middle;\n",
       "    }\n",
       "\n",
       "    .dataframe tbody tr th {\n",
       "        vertical-align: top;\n",
       "    }\n",
       "\n",
       "    .dataframe thead th {\n",
       "        text-align: right;\n",
       "    }\n",
       "</style>\n",
       "<table border=\"1\" class=\"dataframe\">\n",
       "  <thead>\n",
       "    <tr style=\"text-align: right;\">\n",
       "      <th></th>\n",
       "      <th>Call Type</th>\n",
       "      <th>Priority</th>\n",
       "      <th>Initial Call Type</th>\n",
       "      <th>Final Call Type</th>\n",
       "      <th>Precinct</th>\n",
       "      <th>Sector</th>\n",
       "      <th>Beat</th>\n",
       "    </tr>\n",
       "  </thead>\n",
       "  <tbody>\n",
       "    <tr>\n",
       "      <th>0</th>\n",
       "      <td>TELEPHONE OTHER, NOT 911</td>\n",
       "      <td>3</td>\n",
       "      <td>TRAFFIC - BLOCKING ROADWAY</td>\n",
       "      <td>TRAFFIC - BLOCKING ROADWAY</td>\n",
       "      <td>WEST</td>\n",
       "      <td>QUEEN</td>\n",
       "      <td>Q1</td>\n",
       "    </tr>\n",
       "  </tbody>\n",
       "</table>\n",
       "</div>"
      ],
      "text/plain": [
       "                  Call Type  Priority           Initial Call Type  \\\n",
       "0  TELEPHONE OTHER, NOT 911         3  TRAFFIC - BLOCKING ROADWAY   \n",
       "\n",
       "              Final Call Type Precinct Sector Beat  \n",
       "0  TRAFFIC - BLOCKING ROADWAY     WEST  QUEEN   Q1  "
      ]
     },
     "execution_count": 59,
     "metadata": {},
     "output_type": "execute_result"
    }
   ],
   "source": [
    "X_dataframe.head(1)"
   ]
  },
  {
   "cell_type": "markdown",
   "metadata": {},
   "source": [
    "Adicionando em nossa relação as duas variáveis temporais encontradas nos passos anteriores"
   ]
  },
  {
   "cell_type": "code",
   "execution_count": 60,
   "metadata": {},
   "outputs": [],
   "source": [
    "X_dateframe = X_dataframe.join(X_time[['day_of_week','date_period']])"
   ]
  },
  {
   "cell_type": "code",
   "execution_count": 61,
   "metadata": {},
   "outputs": [
    {
     "data": {
      "text/plain": [
       "Index(['Call Type', 'Priority', 'Initial Call Type', 'Final Call Type',\n",
       "       'Precinct', 'Sector', 'Beat', 'day_of_week', 'date_period'],\n",
       "      dtype='object')"
      ]
     },
     "execution_count": 61,
     "metadata": {},
     "output_type": "execute_result"
    }
   ],
   "source": [
    "X_dateframe.columns"
   ]
  },
  {
   "cell_type": "markdown",
   "metadata": {},
   "source": [
    "Fazendo o downsampled"
   ]
  },
  {
   "cell_type": "code",
   "execution_count": 62,
   "metadata": {},
   "outputs": [],
   "source": [
    "X_samples = np.hstack((i_class0_downsampled, \n",
    "           i_class1,  \n",
    "           i_class2_downsampled, \n",
    "           i_class3_downsampled, \n",
    "           i_class4_downsampled, \n",
    "           i_class5_downsampled, \n",
    "           i_class6_downsampled))"
   ]
  },
  {
   "cell_type": "code",
   "execution_count": 63,
   "metadata": {},
   "outputs": [],
   "source": [
    "X_dataframe = X_dataframe.iloc[X_samples]"
   ]
  },
  {
   "cell_type": "code",
   "execution_count": 64,
   "metadata": {},
   "outputs": [
    {
     "data": {
      "text/plain": [
       "((23121,), (23121, 7))"
      ]
     },
     "execution_count": 64,
     "metadata": {},
     "output_type": "execute_result"
    }
   ],
   "source": [
    "y_downsampled.shape, X_dataframe.shape"
   ]
  },
  {
   "cell_type": "markdown",
   "metadata": {},
   "source": [
    "Transformando as variáveis de classe com o processo de _one-hot_"
   ]
  },
  {
   "cell_type": "code",
   "execution_count": 65,
   "metadata": {},
   "outputs": [],
   "source": [
    "for column_name in X_dataframe.columns:\n",
    "    X_dataframe = X_dataframe.join(pd.get_dummies(X_dataframe[column_name], prefix=column_name))\n",
    "    X_dataframe.drop([column_name], axis=1, inplace=True)"
   ]
  },
  {
   "cell_type": "code",
   "execution_count": 66,
   "metadata": {},
   "outputs": [
    {
     "data": {
      "text/plain": [
       "Index(['Call Type_911', 'Call Type_ALARM CALL (NOT POLICE ALARM)',\n",
       "       'Call Type_HISTORY CALL (RETRO)', 'Call Type_ONVIEW',\n",
       "       'Call Type_POLICE (VARDA) ALARM', 'Call Type_TELEPHONE OTHER, NOT 911',\n",
       "       'Priority_1', 'Priority_2', 'Priority_3', 'Priority_4',\n",
       "       ...\n",
       "       'Beat_SWT', 'Beat_U1', 'Beat_U2', 'Beat_U3', 'Beat_US', 'Beat_W',\n",
       "       'Beat_W1', 'Beat_W2', 'Beat_W3', 'Beat_WS'],\n",
       "      dtype='object', length=557)"
      ]
     },
     "execution_count": 66,
     "metadata": {},
     "output_type": "execute_result"
    }
   ],
   "source": [
    "X_dataframe.columns"
   ]
  },
  {
   "cell_type": "code",
   "execution_count": 67,
   "metadata": {},
   "outputs": [
    {
     "data": {
      "text/html": [
       "<div>\n",
       "<style scoped>\n",
       "    .dataframe tbody tr th:only-of-type {\n",
       "        vertical-align: middle;\n",
       "    }\n",
       "\n",
       "    .dataframe tbody tr th {\n",
       "        vertical-align: top;\n",
       "    }\n",
       "\n",
       "    .dataframe thead th {\n",
       "        text-align: right;\n",
       "    }\n",
       "</style>\n",
       "<table border=\"1\" class=\"dataframe\">\n",
       "  <thead>\n",
       "    <tr style=\"text-align: right;\">\n",
       "      <th></th>\n",
       "      <th>Call Type_911</th>\n",
       "      <th>Call Type_ALARM CALL (NOT POLICE ALARM)</th>\n",
       "      <th>Call Type_HISTORY CALL (RETRO)</th>\n",
       "      <th>Call Type_ONVIEW</th>\n",
       "      <th>Call Type_POLICE (VARDA) ALARM</th>\n",
       "      <th>Call Type_TELEPHONE OTHER, NOT 911</th>\n",
       "      <th>Priority_1</th>\n",
       "      <th>Priority_2</th>\n",
       "      <th>Priority_3</th>\n",
       "      <th>Priority_4</th>\n",
       "      <th>...</th>\n",
       "      <th>Beat_SWT</th>\n",
       "      <th>Beat_U1</th>\n",
       "      <th>Beat_U2</th>\n",
       "      <th>Beat_U3</th>\n",
       "      <th>Beat_US</th>\n",
       "      <th>Beat_W</th>\n",
       "      <th>Beat_W1</th>\n",
       "      <th>Beat_W2</th>\n",
       "      <th>Beat_W3</th>\n",
       "      <th>Beat_WS</th>\n",
       "    </tr>\n",
       "  </thead>\n",
       "  <tbody>\n",
       "    <tr>\n",
       "      <th>68429</th>\n",
       "      <td>0</td>\n",
       "      <td>0</td>\n",
       "      <td>0</td>\n",
       "      <td>1</td>\n",
       "      <td>0</td>\n",
       "      <td>0</td>\n",
       "      <td>0</td>\n",
       "      <td>0</td>\n",
       "      <td>0</td>\n",
       "      <td>0</td>\n",
       "      <td>...</td>\n",
       "      <td>0</td>\n",
       "      <td>1</td>\n",
       "      <td>0</td>\n",
       "      <td>0</td>\n",
       "      <td>0</td>\n",
       "      <td>0</td>\n",
       "      <td>0</td>\n",
       "      <td>0</td>\n",
       "      <td>0</td>\n",
       "      <td>0</td>\n",
       "    </tr>\n",
       "    <tr>\n",
       "      <th>23495</th>\n",
       "      <td>0</td>\n",
       "      <td>0</td>\n",
       "      <td>0</td>\n",
       "      <td>0</td>\n",
       "      <td>0</td>\n",
       "      <td>1</td>\n",
       "      <td>0</td>\n",
       "      <td>0</td>\n",
       "      <td>1</td>\n",
       "      <td>0</td>\n",
       "      <td>...</td>\n",
       "      <td>0</td>\n",
       "      <td>0</td>\n",
       "      <td>0</td>\n",
       "      <td>0</td>\n",
       "      <td>0</td>\n",
       "      <td>0</td>\n",
       "      <td>0</td>\n",
       "      <td>0</td>\n",
       "      <td>0</td>\n",
       "      <td>0</td>\n",
       "    </tr>\n",
       "    <tr>\n",
       "      <th>52121</th>\n",
       "      <td>0</td>\n",
       "      <td>0</td>\n",
       "      <td>0</td>\n",
       "      <td>1</td>\n",
       "      <td>0</td>\n",
       "      <td>0</td>\n",
       "      <td>0</td>\n",
       "      <td>0</td>\n",
       "      <td>0</td>\n",
       "      <td>0</td>\n",
       "      <td>...</td>\n",
       "      <td>0</td>\n",
       "      <td>0</td>\n",
       "      <td>0</td>\n",
       "      <td>0</td>\n",
       "      <td>0</td>\n",
       "      <td>0</td>\n",
       "      <td>0</td>\n",
       "      <td>1</td>\n",
       "      <td>0</td>\n",
       "      <td>0</td>\n",
       "    </tr>\n",
       "  </tbody>\n",
       "</table>\n",
       "<p>3 rows × 557 columns</p>\n",
       "</div>"
      ],
      "text/plain": [
       "       Call Type_911  Call Type_ALARM CALL (NOT POLICE ALARM)  \\\n",
       "68429              0                                        0   \n",
       "23495              0                                        0   \n",
       "52121              0                                        0   \n",
       "\n",
       "       Call Type_HISTORY CALL (RETRO)  Call Type_ONVIEW  \\\n",
       "68429                               0                 1   \n",
       "23495                               0                 0   \n",
       "52121                               0                 1   \n",
       "\n",
       "       Call Type_POLICE (VARDA) ALARM  Call Type_TELEPHONE OTHER, NOT 911  \\\n",
       "68429                               0                                   0   \n",
       "23495                               0                                   1   \n",
       "52121                               0                                   0   \n",
       "\n",
       "       Priority_1  Priority_2  Priority_3  Priority_4   ...     Beat_SWT  \\\n",
       "68429           0           0           0           0   ...            0   \n",
       "23495           0           0           1           0   ...            0   \n",
       "52121           0           0           0           0   ...            0   \n",
       "\n",
       "       Beat_U1  Beat_U2  Beat_U3  Beat_US  Beat_W  Beat_W1  Beat_W2  Beat_W3  \\\n",
       "68429        1        0        0        0       0        0        0        0   \n",
       "23495        0        0        0        0       0        0        0        0   \n",
       "52121        0        0        0        0       0        0        1        0   \n",
       "\n",
       "       Beat_WS  \n",
       "68429        0  \n",
       "23495        0  \n",
       "52121        0  \n",
       "\n",
       "[3 rows x 557 columns]"
      ]
     },
     "execution_count": 67,
     "metadata": {},
     "output_type": "execute_result"
    }
   ],
   "source": [
    "X_dataframe.head(3)"
   ]
  },
  {
   "cell_type": "code",
   "execution_count": 68,
   "metadata": {},
   "outputs": [
    {
     "data": {
      "text/plain": [
       "(23121, 557)"
      ]
     },
     "execution_count": 68,
     "metadata": {},
     "output_type": "execute_result"
    }
   ],
   "source": [
    "X_dataframe.shape"
   ]
  },
  {
   "cell_type": "markdown",
   "metadata": {},
   "source": [
    "### Escolhando e treinando os modelos"
   ]
  },
  {
   "cell_type": "code",
   "execution_count": 78,
   "metadata": {},
   "outputs": [],
   "source": [
    "from sklearn.model_selection import train_test_split\n",
    "from sklearn.ensemble import RandomForestClassifier\n",
    "from sklearn.linear_model import LogisticRegression\n",
    "from sklearn.grid_search import GridSearchCV"
   ]
  },
  {
   "cell_type": "code",
   "execution_count": 70,
   "metadata": {},
   "outputs": [],
   "source": [
    "X_train, X_test, y_train, y_test = train_test_split(X_dataframe.values, y_downsampled, test_size=0.3, random_state=100)"
   ]
  },
  {
   "cell_type": "markdown",
   "metadata": {},
   "source": [
    "_Os modelos selecionados foram decisivos pelo seu alto valor de acurácia e seu melhor resultado do score em relação a nossa variável alvo e pela característica dos dados. E também por serem muito populares com alto índice de retorno satisfatório_ :)"
   ]
  },
  {
   "cell_type": "markdown",
   "metadata": {},
   "source": [
    "#### Primeiro modelo escolhido - RandomForest (classificação supervisionada)"
   ]
  },
  {
   "cell_type": "markdown",
   "metadata": {},
   "source": [
    "O _Random Forest_ cria combinações de \"árvores de decisão\" aleatórios afim de manter uma maior acurácia para o modelo, suas vantagens além de poder ser utilizado tanto para modelos de classificação quanto para regressão, seu algoritmo é flexível e fácil o que proprociona em muitas casos um bom resultado. Outra caracterista do _Random Forest_ é que ele calcula a importância relativa de cada _feature_, o que auxilia na redução de impureza da floresta. \n",
    "A desvantagem do algoritmo está no grande aumento de árvores (mais acurácia requer mais árvores), isto pode acarretar em um algoritmo lento e ineficiente na vida real, outro fator de desvantagem é no controle do _overfitting_, mesmo que não possa ocorrer tão facilmente."
   ]
  },
  {
   "cell_type": "code",
   "execution_count": 71,
   "metadata": {},
   "outputs": [
    {
     "data": {
      "text/plain": [
       "0.7323050309932247"
      ]
     },
     "execution_count": 71,
     "metadata": {},
     "output_type": "execute_result"
    }
   ],
   "source": [
    "RandomForestClassifier(random_state=100).fit(X_train, y_train).score(X_test, y_test)"
   ]
  },
  {
   "cell_type": "code",
   "execution_count": 72,
   "metadata": {
    "scrolled": true
   },
   "outputs": [
    {
     "name": "stdout",
     "output_type": "stream",
     "text": [
      "RandomForestClassifier(bootstrap=True, class_weight=None, criterion='gini',\n",
      "            max_depth=None, max_features='auto', max_leaf_nodes=None,\n",
      "            min_impurity_decrease=0.0, min_impurity_split=None,\n",
      "            min_samples_leaf=1, min_samples_split=2,\n",
      "            min_weight_fraction_leaf=0.0, n_estimators=30, n_jobs=-1,\n",
      "            oob_score=False, random_state=100, verbose=0, warm_start=False) 0.7452789390226323\n"
     ]
    }
   ],
   "source": [
    "random_params = {\n",
    "    \"random_state\": [100],\n",
    "    'n_jobs': [-1],\n",
    "    'n_estimators': [10,20,30],\n",
    "    'criterion': ['gini','entropy']\n",
    "}\n",
    "random = GridSearchCV(RandomForestClassifier(), param_grid=random_params, cv=3).fit(X_train, y_train)\n",
    "print (random.best_estimator_, random.score(X_test, y_test))"
   ]
  },
  {
   "cell_type": "markdown",
   "metadata": {},
   "source": [
    "#### Segundo modelo escolhido - Regressão Linear (supervisionada também)"
   ]
  },
  {
   "cell_type": "markdown",
   "metadata": {},
   "source": [
    "A _Regressão Linear_ quantifica a relação entre uma ou mais variáveis independentes _features_ e uma variável de resultado dependente _target_, seu modelo pode ser utilizado para prever condições futuras. Sua vantagem está na simplicidade do algoritmo onde inicialmente só precisa de apenas 2 parâmetros, já mencionado anteriormente, e depois se resume em encontrar a posição e inclinação da reta o que causa uma boa interpretabilidade visual. A desvantagem está ligada a sua vantagem onde o modelo exige especificação explícita dos _hyperparameters_ para pode encontrar a inclinação e posição mais adequada da reta."
   ]
  },
  {
   "cell_type": "code",
   "execution_count": 73,
   "metadata": {},
   "outputs": [
    {
     "data": {
      "text/plain": [
       "0.7669021190716448"
      ]
     },
     "execution_count": 73,
     "metadata": {},
     "output_type": "execute_result"
    }
   ],
   "source": [
    "LogisticRegression(random_state=100).fit(X_train, y_train).score(X_test, y_test)"
   ]
  },
  {
   "cell_type": "code",
   "execution_count": 74,
   "metadata": {},
   "outputs": [
    {
     "name": "stdout",
     "output_type": "stream",
     "text": [
      "LogisticRegression(C=1, class_weight=None, dual=False, fit_intercept=True,\n",
      "          intercept_scaling=1, max_iter=100, multi_class='ovr', n_jobs=1,\n",
      "          penalty='l1', random_state=100, solver='liblinear', tol=0.0001,\n",
      "          verbose=0, warm_start=False) 0.7669021190716448\n"
     ]
    }
   ],
   "source": [
    "lr_params = {\n",
    "    'random_state': [100],\n",
    "    'penalty': ['l1'],\n",
    "    'solver': ['liblinear'],\n",
    "    'C': [1,2,3,5,8]\n",
    "}\n",
    "lr = GridSearchCV(LogisticRegression(), param_grid=lr_params, cv=3).fit(X_train, y_train)\n",
    "print (lr.best_estimator_, lr.score(X_test, y_test))"
   ]
  },
  {
   "cell_type": "code",
   "execution_count": 75,
   "metadata": {
    "scrolled": true
   },
   "outputs": [
    {
     "name": "stdout",
     "output_type": "stream",
     "text": [
      "LogisticRegression(C=1, class_weight=None, dual=False, fit_intercept=True,\n",
      "          intercept_scaling=1, max_iter=100, multi_class='ovr', n_jobs=-1,\n",
      "          penalty='l2', random_state=100, solver='lbfgs', tol=0.0001,\n",
      "          verbose=0, warm_start=False) 0.767190428138965\n"
     ]
    }
   ],
   "source": [
    "lr_params = {\n",
    "    'random_state': [100],\n",
    "    'penalty': ['l2'],\n",
    "    'solver': ['lbfgs'],\n",
    "    'C': [1,2],\n",
    "    'n_jobs': [-1]\n",
    "}\n",
    "lr = GridSearchCV(LogisticRegression(), param_grid=lr_params, cv=3).fit(X_train, y_train)\n",
    "print (lr.best_estimator_, lr.score(X_test, y_test))"
   ]
  },
  {
   "cell_type": "markdown",
   "metadata": {},
   "source": [
    "**Note** A única situação pela qual necessitamos repetir os testes do GridSearch foi devido a penalidade (l1 ou l2). Cada uma delas possui algorítmos que melhor lhe convêm."
   ]
  },
  {
   "cell_type": "markdown",
   "metadata": {},
   "source": [
    "### Grid Search"
   ]
  },
  {
   "cell_type": "markdown",
   "metadata": {},
   "source": [
    "O recurso _Grid Search_ consiste em analisar múltiplas combinações de _hyperparameters_, que para cada combinação, é feita uma análise da performance do algoritmo. Visto que esta não é uma tarefa simples, pois dependendo do algoritmo selecionado o mesmo pode conter vários parametros disponíveis. \n",
    "E para você desenvolvedor não se basear em chutes ou \"achismo\" o gridsearch irá testar cada valor exaustivamente para você e encontrar uma melhor acurácia para seu modelo.\n"
   ]
  },
  {
   "cell_type": "markdown",
   "metadata": {},
   "source": [
    "### Cross Validation"
   ]
  },
  {
   "cell_type": "markdown",
   "metadata": {},
   "source": [
    "O _Cross Validation_ significa \"validação cruzada\" seu método se resume em capturar um conjunto de dados do _dataset_ realizar a validaçao propriamente dita nos dados, e em seguida, capturar novos conjuntos de dados aleatório e iniciar o processo de validação novamente, e o ciclo se reiniciar até percorrer todo o conjunto de dados. Esse recurso visa estimar o quão preciso é a qualidade do modelo em diversos cenários (diferentes conjuntos de dados)."
   ]
  },
  {
   "cell_type": "markdown",
   "metadata": {},
   "source": [
    "**Em nossos modelos, optamos por fazer o _Cross Validation_ através do parâmetro CV do _GridSearchCV_**"
   ]
  },
  {
   "cell_type": "markdown",
   "metadata": {},
   "source": [
    "### Acurácia"
   ]
  },
  {
   "cell_type": "markdown",
   "metadata": {},
   "source": [
    "Para medir a qualidade de nossos modelos (e poder compará-los), usamos a acurácia."
   ]
  },
  {
   "cell_type": "markdown",
   "metadata": {},
   "source": [
    "A acuácia mede a aproximidade do valor predito com o valor real, comparando a quantidade de acertos e a quantidade de erros. É sem dúvida a maneira mais fácil e intuitiva de medir a qualidade de um modelo, mas precisa de alguns cuidados, como o balanceamento dos dados de entrada. :) Fizemos isso por meio de uma técnica chamada _Downsampling_."
   ]
  },
  {
   "cell_type": "markdown",
   "metadata": {},
   "source": [
    "Comparando nossos modelos, sugeriríamos para resolver o atual problema o uso do:"
   ]
  },
  {
   "cell_type": "markdown",
   "metadata": {},
   "source": [
    "_LogisticRegression(C=2, class_weight=None, dual=False, fit_intercept=True,\n",
    "          intercept_scaling=1, max_iter=100, multi_class='ovr', n_jobs=-1,\n",
    "          penalty='l2', random_state=100, solver='lbfgs', tol=0.0001,\n",
    "          verbose=0, warm_start=False) _\n",
    "\n",
    "Que possui uma taxa de acerto de **0.7777137090961511**"
   ]
  },
  {
   "cell_type": "code",
   "execution_count": 103,
   "metadata": {},
   "outputs": [
    {
     "data": {
      "text/html": [
       "<div>\n",
       "<style scoped>\n",
       "    .dataframe tbody tr th:only-of-type {\n",
       "        vertical-align: middle;\n",
       "    }\n",
       "\n",
       "    .dataframe tbody tr th {\n",
       "        vertical-align: top;\n",
       "    }\n",
       "\n",
       "    .dataframe thead th {\n",
       "        text-align: right;\n",
       "    }\n",
       "</style>\n",
       "<table border=\"1\" class=\"dataframe\">\n",
       "  <thead>\n",
       "    <tr style=\"text-align: right;\">\n",
       "      <th></th>\n",
       "      <th>0</th>\n",
       "    </tr>\n",
       "  </thead>\n",
       "  <tbody>\n",
       "    <tr>\n",
       "      <th>Initial Call Type_PREMISE CHECK, OFFICER INITIATED ONVIEW ONLY</th>\n",
       "      <td>0.077196</td>\n",
       "    </tr>\n",
       "    <tr>\n",
       "      <th>Final Call Type_--TRAFFIC - MOVING VIOLATION</th>\n",
       "      <td>0.039351</td>\n",
       "    </tr>\n",
       "    <tr>\n",
       "      <th>Call Type_ONVIEW</th>\n",
       "      <td>0.036371</td>\n",
       "    </tr>\n",
       "    <tr>\n",
       "      <th>Initial Call Type_ALARM - COMM, SILENT/AUD BURG (INCL BANKS)</th>\n",
       "      <td>0.033962</td>\n",
       "    </tr>\n",
       "    <tr>\n",
       "      <th>Initial Call Type_ALARM - RESIDENTIAL - BURGLARY, SILENT/AUDIBLE</th>\n",
       "      <td>0.030600</td>\n",
       "    </tr>\n",
       "    <tr>\n",
       "      <th>Priority_7</th>\n",
       "      <td>0.028182</td>\n",
       "    </tr>\n",
       "    <tr>\n",
       "      <th>Final Call Type_--PREMISE CHECKS - CRIME PREVENTION</th>\n",
       "      <td>0.026710</td>\n",
       "    </tr>\n",
       "    <tr>\n",
       "      <th>Initial Call Type_PARKING VIOLATION (EXCEPT ABANDONED CAR)</th>\n",
       "      <td>0.024431</td>\n",
       "    </tr>\n",
       "    <tr>\n",
       "      <th>Call Type_TELEPHONE OTHER, NOT 911</th>\n",
       "      <td>0.021123</td>\n",
       "    </tr>\n",
       "    <tr>\n",
       "      <th>Final Call Type_--ALARM-COMM (INC BANK, ATM, SCHOOLS, BSN)</th>\n",
       "      <td>0.020248</td>\n",
       "    </tr>\n",
       "    <tr>\n",
       "      <th>Call Type_911</th>\n",
       "      <td>0.019169</td>\n",
       "    </tr>\n",
       "    <tr>\n",
       "      <th>Initial Call Type_TRAFFIC STOP - OFFICER INITIATED ONVIEW</th>\n",
       "      <td>0.018845</td>\n",
       "    </tr>\n",
       "    <tr>\n",
       "      <th>Final Call Type_--WARRANT SERVICES - MISDEMEANOR</th>\n",
       "      <td>0.017720</td>\n",
       "    </tr>\n",
       "    <tr>\n",
       "      <th>Final Call Type_--WARRANT SERVICES - FELONY</th>\n",
       "      <td>0.017661</td>\n",
       "    </tr>\n",
       "    <tr>\n",
       "      <th>Call Type_ALARM CALL (NOT POLICE ALARM)</th>\n",
       "      <td>0.017335</td>\n",
       "    </tr>\n",
       "    <tr>\n",
       "      <th>Final Call Type_--TRAFFIC - PARKING VIOL (EXCEPT ABANDONED CAR)</th>\n",
       "      <td>0.016768</td>\n",
       "    </tr>\n",
       "    <tr>\n",
       "      <th>Final Call Type_--SUSPICIOUS CIRCUM. - SUSPICIOUS PERSON</th>\n",
       "      <td>0.014216</td>\n",
       "    </tr>\n",
       "    <tr>\n",
       "      <th>Priority_2</th>\n",
       "      <td>0.013945</td>\n",
       "    </tr>\n",
       "    <tr>\n",
       "      <th>Initial Call Type_SUSPICIOUS STOP - OFFICER INITIATED ONVIEW</th>\n",
       "      <td>0.013427</td>\n",
       "    </tr>\n",
       "    <tr>\n",
       "      <th>Priority_3</th>\n",
       "      <td>0.013241</td>\n",
       "    </tr>\n",
       "    <tr>\n",
       "      <th>Priority_6</th>\n",
       "      <td>0.009451</td>\n",
       "    </tr>\n",
       "    <tr>\n",
       "      <th>Final Call Type_--ALARM-RESIDENTIAL BURG</th>\n",
       "      <td>0.009037</td>\n",
       "    </tr>\n",
       "    <tr>\n",
       "      <th>Final Call Type_--TRAFFIC - MV COLLISION INVESTIGATION</th>\n",
       "      <td>0.008787</td>\n",
       "    </tr>\n",
       "    <tr>\n",
       "      <th>Final Call Type_--DISTURBANCE - OTHER</th>\n",
       "      <td>0.008545</td>\n",
       "    </tr>\n",
       "    <tr>\n",
       "      <th>Final Call Type_--DV - DOMESTIC VIOL/ASLT (ARREST MANDATORY)</th>\n",
       "      <td>0.007521</td>\n",
       "    </tr>\n",
       "    <tr>\n",
       "      <th>Final Call Type_PREMISE CHECK, OFFICER INITIATED ONVIEW ONLY</th>\n",
       "      <td>0.007151</td>\n",
       "    </tr>\n",
       "    <tr>\n",
       "      <th>Final Call Type_--SUSPICIOUS CIRCUM. - SUSPICIOUS VEHICLE</th>\n",
       "      <td>0.007079</td>\n",
       "    </tr>\n",
       "    <tr>\n",
       "      <th>Final Call Type_--INTOX &amp; LIQ VIOLS - ADULTS (VIOLATIONS)</th>\n",
       "      <td>0.006603</td>\n",
       "    </tr>\n",
       "    <tr>\n",
       "      <th>Priority_4</th>\n",
       "      <td>0.006498</td>\n",
       "    </tr>\n",
       "    <tr>\n",
       "      <th>Final Call Type_--THEFT - CAR PROWL</th>\n",
       "      <td>0.006431</td>\n",
       "    </tr>\n",
       "    <tr>\n",
       "      <th>...</th>\n",
       "      <td>...</td>\n",
       "    </tr>\n",
       "    <tr>\n",
       "      <th>Final Call Type_ALARM - RESIDENTIAL - SILENT/AUD PANIC/DURESS</th>\n",
       "      <td>0.000000</td>\n",
       "    </tr>\n",
       "    <tr>\n",
       "      <th>Final Call Type_ABDUCTION - NO KNOWN KIDNAPPING</th>\n",
       "      <td>0.000000</td>\n",
       "    </tr>\n",
       "    <tr>\n",
       "      <th>Final Call Type_-ASSIGNED DUTY - STAKEOUT</th>\n",
       "      <td>0.000000</td>\n",
       "    </tr>\n",
       "    <tr>\n",
       "      <th>Final Call Type_--HARBOR - DEBRIS, NAVIGATIONAL HAZ</th>\n",
       "      <td>0.000000</td>\n",
       "    </tr>\n",
       "    <tr>\n",
       "      <th>Final Call Type_--HARBOR - WATER EMERGENCIES</th>\n",
       "      <td>0.000000</td>\n",
       "    </tr>\n",
       "    <tr>\n",
       "      <th>Call Type_POLICE (VARDA) ALARM</th>\n",
       "      <td>0.000000</td>\n",
       "    </tr>\n",
       "    <tr>\n",
       "      <th>Call Type_HISTORY CALL (RETRO)</th>\n",
       "      <td>0.000000</td>\n",
       "    </tr>\n",
       "    <tr>\n",
       "      <th>Initial Call Type_-OUT AT RANGE</th>\n",
       "      <td>0.000000</td>\n",
       "    </tr>\n",
       "    <tr>\n",
       "      <th>Initial Call Type_TRU - SUSPICIOUS CIRCUMSTANCES</th>\n",
       "      <td>0.000000</td>\n",
       "    </tr>\n",
       "    <tr>\n",
       "      <th>Initial Call Type_BIAS -RACIAL, POLITICAL, SEXUAL MOTIVATION</th>\n",
       "      <td>0.000000</td>\n",
       "    </tr>\n",
       "    <tr>\n",
       "      <th>Final Call Type_UNKNOWN - ANI/ALI - WRLS PHNS (INCL OPEN LINE)</th>\n",
       "      <td>0.000000</td>\n",
       "    </tr>\n",
       "    <tr>\n",
       "      <th>Initial Call Type_BOMB THREATS - IP/JO</th>\n",
       "      <td>0.000000</td>\n",
       "    </tr>\n",
       "    <tr>\n",
       "      <th>Beat_HS</th>\n",
       "      <td>0.000000</td>\n",
       "    </tr>\n",
       "    <tr>\n",
       "      <th>Initial Call Type_CHILD - IP/JO - LURING</th>\n",
       "      <td>0.000000</td>\n",
       "    </tr>\n",
       "    <tr>\n",
       "      <th>Beat_FS</th>\n",
       "      <td>0.000000</td>\n",
       "    </tr>\n",
       "    <tr>\n",
       "      <th>Initial Call Type_EXPLOSION WITH SIGNIFICANT DELAY</th>\n",
       "      <td>0.000000</td>\n",
       "    </tr>\n",
       "    <tr>\n",
       "      <th>Beat_DET</th>\n",
       "      <td>0.000000</td>\n",
       "    </tr>\n",
       "    <tr>\n",
       "      <th>Initial Call Type_HARBOR - WATER DEBRIS, NAVIGATIONAL HAZARDS</th>\n",
       "      <td>0.000000</td>\n",
       "    </tr>\n",
       "    <tr>\n",
       "      <th>Initial Call Type_ANIMAL - IP/JO - BITE</th>\n",
       "      <td>0.000000</td>\n",
       "    </tr>\n",
       "    <tr>\n",
       "      <th>Initial Call Type_TRU - HARASSMENT</th>\n",
       "      <td>0.000000</td>\n",
       "    </tr>\n",
       "    <tr>\n",
       "      <th>Final Call Type_POLICE (SILENT) ALARM</th>\n",
       "      <td>0.000000</td>\n",
       "    </tr>\n",
       "    <tr>\n",
       "      <th>Initial Call Type_TRU - OBSCENE OR NUISANCE PHONE CALLS</th>\n",
       "      <td>0.000000</td>\n",
       "    </tr>\n",
       "    <tr>\n",
       "      <th>Final Call Type_SEX IN PUBLIC PLACE/VIEW (INCL MASTURBATION)</th>\n",
       "      <td>0.000000</td>\n",
       "    </tr>\n",
       "    <tr>\n",
       "      <th>Final Call Type_SECONDARY - THEFT (NOT SHOPLIFT OR SERVICES)</th>\n",
       "      <td>0.000000</td>\n",
       "    </tr>\n",
       "    <tr>\n",
       "      <th>Final Call Type_SECONDARY - FORGERY/BUNCO/SCAMS/ID THEFT</th>\n",
       "      <td>0.000000</td>\n",
       "    </tr>\n",
       "    <tr>\n",
       "      <th>Final Call Type_RAPE - IP/JO</th>\n",
       "      <td>0.000000</td>\n",
       "    </tr>\n",
       "    <tr>\n",
       "      <th>Final Call Type_PURSUIT (FOOT OR VEHICLE)</th>\n",
       "      <td>0.000000</td>\n",
       "    </tr>\n",
       "    <tr>\n",
       "      <th>Beat_ODD</th>\n",
       "      <td>0.000000</td>\n",
       "    </tr>\n",
       "    <tr>\n",
       "      <th>Beat_OS</th>\n",
       "      <td>0.000000</td>\n",
       "    </tr>\n",
       "    <tr>\n",
       "      <th>Final Call Type_SECONDARY - PROPERTY DAMAGE/DESTRUCTION</th>\n",
       "      <td>0.000000</td>\n",
       "    </tr>\n",
       "  </tbody>\n",
       "</table>\n",
       "<p>557 rows × 1 columns</p>\n",
       "</div>"
      ],
      "text/plain": [
       "                                                           0\n",
       "Initial Call Type_PREMISE CHECK, OFFICER INITIA...  0.077196\n",
       "Final Call Type_--TRAFFIC - MOVING VIOLATION        0.039351\n",
       "Call Type_ONVIEW                                    0.036371\n",
       "Initial Call Type_ALARM - COMM, SILENT/AUD BURG...  0.033962\n",
       "Initial Call Type_ALARM - RESIDENTIAL - BURGLAR...  0.030600\n",
       "Priority_7                                          0.028182\n",
       "Final Call Type_--PREMISE CHECKS - CRIME PREVEN...  0.026710\n",
       "Initial Call Type_PARKING VIOLATION (EXCEPT ABA...  0.024431\n",
       "Call Type_TELEPHONE OTHER, NOT 911                  0.021123\n",
       "Final Call Type_--ALARM-COMM (INC BANK, ATM, SC...  0.020248\n",
       "Call Type_911                                       0.019169\n",
       "Initial Call Type_TRAFFIC STOP - OFFICER INITIA...  0.018845\n",
       "Final Call Type_--WARRANT SERVICES - MISDEMEANOR    0.017720\n",
       "Final Call Type_--WARRANT SERVICES - FELONY         0.017661\n",
       "Call Type_ALARM CALL (NOT POLICE ALARM)             0.017335\n",
       "Final Call Type_--TRAFFIC - PARKING VIOL (EXCEP...  0.016768\n",
       "Final Call Type_--SUSPICIOUS CIRCUM. - SUSPICIO...  0.014216\n",
       "Priority_2                                          0.013945\n",
       "Initial Call Type_SUSPICIOUS STOP - OFFICER INI...  0.013427\n",
       "Priority_3                                          0.013241\n",
       "Priority_6                                          0.009451\n",
       "Final Call Type_--ALARM-RESIDENTIAL BURG            0.009037\n",
       "Final Call Type_--TRAFFIC - MV COLLISION INVEST...  0.008787\n",
       "Final Call Type_--DISTURBANCE - OTHER               0.008545\n",
       "Final Call Type_--DV - DOMESTIC VIOL/ASLT (ARRE...  0.007521\n",
       "Final Call Type_PREMISE CHECK, OFFICER INITIATE...  0.007151\n",
       "Final Call Type_--SUSPICIOUS CIRCUM. - SUSPICIO...  0.007079\n",
       "Final Call Type_--INTOX & LIQ VIOLS - ADULTS (V...  0.006603\n",
       "Priority_4                                          0.006498\n",
       "Final Call Type_--THEFT - CAR PROWL                 0.006431\n",
       "...                                                      ...\n",
       "Final Call Type_ALARM - RESIDENTIAL - SILENT/AU...  0.000000\n",
       "Final Call Type_ABDUCTION - NO KNOWN KIDNAPPING     0.000000\n",
       "Final Call Type_-ASSIGNED DUTY - STAKEOUT           0.000000\n",
       "Final Call Type_--HARBOR - DEBRIS, NAVIGATIONAL...  0.000000\n",
       "Final Call Type_--HARBOR - WATER EMERGENCIES        0.000000\n",
       "Call Type_POLICE (VARDA) ALARM                      0.000000\n",
       "Call Type_HISTORY CALL (RETRO)                      0.000000\n",
       "Initial Call Type_-OUT AT RANGE                     0.000000\n",
       "Initial Call Type_TRU - SUSPICIOUS CIRCUMSTANCES    0.000000\n",
       "Initial Call Type_BIAS -RACIAL, POLITICAL, SEXU...  0.000000\n",
       "Final Call Type_UNKNOWN - ANI/ALI - WRLS PHNS (...  0.000000\n",
       "Initial Call Type_BOMB THREATS - IP/JO              0.000000\n",
       "Beat_HS                                             0.000000\n",
       "Initial Call Type_CHILD - IP/JO - LURING            0.000000\n",
       "Beat_FS                                             0.000000\n",
       "Initial Call Type_EXPLOSION WITH SIGNIFICANT DELAY  0.000000\n",
       "Beat_DET                                            0.000000\n",
       "Initial Call Type_HARBOR - WATER DEBRIS, NAVIGA...  0.000000\n",
       "Initial Call Type_ANIMAL - IP/JO - BITE             0.000000\n",
       "Initial Call Type_TRU - HARASSMENT                  0.000000\n",
       "Final Call Type_POLICE (SILENT) ALARM               0.000000\n",
       "Initial Call Type_TRU - OBSCENE OR NUISANCE PHO...  0.000000\n",
       "Final Call Type_SEX IN PUBLIC PLACE/VIEW (INCL ...  0.000000\n",
       "Final Call Type_SECONDARY - THEFT (NOT SHOPLIFT...  0.000000\n",
       "Final Call Type_SECONDARY - FORGERY/BUNCO/SCAMS...  0.000000\n",
       "Final Call Type_RAPE - IP/JO                        0.000000\n",
       "Final Call Type_PURSUIT (FOOT OR VEHICLE)           0.000000\n",
       "Beat_ODD                                            0.000000\n",
       "Beat_OS                                             0.000000\n",
       "Final Call Type_SECONDARY - PROPERTY DAMAGE/DES...  0.000000\n",
       "\n",
       "[557 rows x 1 columns]"
      ]
     },
     "execution_count": 103,
     "metadata": {},
     "output_type": "execute_result"
    }
   ],
   "source": [
    "pd.DataFrame(random.estimator.feature_importances_, X_dataframe.columns.values).sort_values(0, ascending=False)"
   ]
  },
  {
   "cell_type": "code",
   "execution_count": null,
   "metadata": {},
   "outputs": [],
   "source": []
  }
 ],
 "metadata": {
  "anaconda-cloud": {},
  "kernelspec": {
   "display_name": "Python 3",
   "language": "python",
   "name": "python3"
  },
  "language_info": {
   "codemirror_mode": {
    "name": "ipython",
    "version": 3
   },
   "file_extension": ".py",
   "mimetype": "text/x-python",
   "name": "python",
   "nbconvert_exporter": "python",
   "pygments_lexer": "ipython3",
   "version": "3.7.0"
  }
 },
 "nbformat": 4,
 "nbformat_minor": 1
}
